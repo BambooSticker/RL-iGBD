{
 "cells": [
  {
   "cell_type": "code",
   "execution_count": 1,
   "metadata": {},
   "outputs": [],
   "source": [
    "import sys\n",
    "from pathlib import Path\n",
    "repo_root = Path.cwd().parent\n",
    "sys.path.insert(0, str(repo_root / \"src\"))\n",
    "\n",
    "import gymnasium as gym\n",
    "from stable_baselines3 import PPO\n",
    "from stable_baselines3.common.monitor import Monitor\n",
    "from stable_baselines3.common.vec_env import VecMonitor, DummyVecEnv, VecNormalize\n",
    "from stable_baselines3.common.callbacks import CheckpointCallback\n",
    "import torch as th\n",
    "import os\n",
    "from GurobiParamEnv import InexactGBDEnv"
   ]
  },
  {
   "cell_type": "code",
   "execution_count": null,
   "metadata": {},
   "outputs": [],
   "source": [
    "# make a logs directory\n",
    "log_dir = \"../tb_logs\"\n",
    "os.makedirs(log_dir, exist_ok=True)\n",
    "save_dir = \"../checkpoints\"\n",
    "os.makedirs(save_dir, exist_ok=True)\n",
    "\n",
    "# 1. Wrap your env in Monitor before vectorizing\n",
    "def make_env():\n",
    "    # the Monitor wrapper writes out a monitor.csv under log_dir\n",
    "    return Monitor(InexactGBDEnv(), filename=os.path.join(log_dir, \"monitor.csv\"))\n",
    "\n",
    "# 2. Create a DummyVecEnv of monitored envs\n",
    "env = DummyVecEnv([make_env])\n",
    "\n",
    "# 3. Normalize observations (no reward normalization)\n",
    "env = VecNormalize(env, norm_obs=True, norm_reward=True)\n",
    "\n",
    "# 4. Wrap the VecNormalize env in a VecMonitor to aggregate per‐env episode stats\n",
    "env = VecMonitor(env, filename=os.path.join(log_dir, \"vecmonitor.csv\"))\n",
    "\n",
    "policy_kwargs = dict(activation_fn=th.nn.ReLU,\n",
    "                     net_arch=dict(pi=[64, 64, 64], vf=[64, 64]))\n",
    "\n",
    "# 5. Initialize PPO with tensorboard logging pointed at the same directory\n",
    "model = PPO(\n",
    "    \"MlpPolicy\",\n",
    "    env,\n",
    "    policy_kwargs=policy_kwargs, \n",
    "    gamma=0.99,\n",
    "    learning_rate=5e-4,\n",
    "    n_steps=512,\n",
    "    batch_size=128,\n",
    "    verbose=1,\n",
    "    tensorboard_log=log_dir, \n",
    ")\n",
    "\n",
    "# checkpoint_callback = CheckpointCallback(\n",
    "#     save_freq=4000, \n",
    "#     save_path=save_dir, \n",
    "#     name_prefix=\"ppo_gbd\"\n",
    "# )\n",
    "\n",
    "# 6. Train\n",
    "model.learn(total_timesteps=20_000, \n",
    "            # callback=checkpoint_callback, \n",
    "            tb_log_name=\"benders_test\")"
   ]
  },
  {
   "cell_type": "code",
   "execution_count": null,
   "metadata": {},
   "outputs": [],
   "source": [
    "# Save both model and normalization statistics\n",
    "model.save(\"ppo_benders_model_retrain\")\n",
    "env.save(\"vecnormalize_benders.pkl\")\n",
    "\n",
    "print(\"Training complete. Model saved to ppo_benders_model.zip and stats to vecnormalize_benders.pkl\")"
   ]
  }
 ],
 "metadata": {
  "kernelspec": {
   "display_name": "RL",
   "language": "python",
   "name": "python3"
  },
  "language_info": {
   "codemirror_mode": {
    "name": "ipython",
    "version": 3
   },
   "file_extension": ".py",
   "mimetype": "text/x-python",
   "name": "python",
   "nbconvert_exporter": "python",
   "pygments_lexer": "ipython3",
   "version": "3.10.13"
  }
 },
 "nbformat": 4,
 "nbformat_minor": 2
}
