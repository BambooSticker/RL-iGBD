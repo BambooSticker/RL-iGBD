{
 "cells": [
  {
   "cell_type": "code",
   "execution_count": 2,
   "metadata": {},
   "outputs": [],
   "source": [
    "import sys\n",
    "from pathlib import Path\n",
    "repo_root = Path.cwd().parent\n",
    "sys.path.insert(0, str(repo_root / \"src\"))\n",
    "\n",
    "import numpy as np\n",
    "import pandas as pd\n",
    "import random\n",
    "\n",
    "from stable_baselines3 import PPO\n",
    "from stable_baselines3.common.vec_env import DummyVecEnv, VecNormalize\n",
    "from stable_baselines3.common.utils import set_random_seed\n",
    "\n",
    "from GurobiParamEnv import InexactGBDEnv \n",
    "\n",
    "from policies import PPOPolicy, OptimalPolicy, RandomPolicy, ExponentialPolicy"
   ]
  },
  {
   "cell_type": "code",
   "execution_count": 7,
   "metadata": {},
   "outputs": [
    {
     "name": "stdout",
     "output_type": "stream",
     "text": [
      "Configuring transition blocks...\n",
      "Configuring initial transition blocks...\n",
      "Configuring scheduling block...\n",
      "Adding noise...\n",
      "In scheduling_opt, calculating transition time bounds...\n",
      "In scheduling_opt, calculating initial transition time bounds...\n",
      "Configuring transition cost bounds...\n",
      "Configuring initial transition cost bounds...\n"
     ]
    }
   ],
   "source": [
    "def make_env():\n",
    "    return InexactGBDEnv()\n",
    "\n",
    "# 1) Create and load the VecNormalize-wrapped env once\n",
    "raw_env = DummyVecEnv([make_env])\n",
    "env = VecNormalize.load(\"../models/vecnormalize_benders.pkl\", raw_env)\n",
    "env.training = False    # freeze running stats\n",
    "env.norm_reward = False # use true rewards"
   ]
  },
  {
   "cell_type": "code",
   "execution_count": 3,
   "metadata": {},
   "outputs": [],
   "source": [
    "# 3) Evaluation function over N episodes\n",
    "def evaluate_n(agent, env, policy_name, seed=100):\n",
    "    np.random.seed(seed)\n",
    "    random.seed(seed)\n",
    "\n",
    "    obs = env.reset()\n",
    "    done = False\n",
    "    total_rew = 0.0\n",
    "    mptimes = []\n",
    "    sptimes = []\n",
    "    steps = 0\n",
    "\n",
    "    while not done:\n",
    "        action, _ = agent.predict(obs, deterministic=True)\n",
    "        obs, reward, done, info = env.step(action)\n",
    "        total_rew += reward[0]\n",
    "        mptimes.append(info[0][\"mp_time\"])\n",
    "        sptimes.append(info[0][\"sp_time\"])\n",
    "        steps += 1\n",
    "\n",
    "    rec = {\n",
    "        \"policy\": policy_name,\n",
    "        \"total_reward\": total_rew,\n",
    "        \"avg_mptime\": np.mean(mptimes),\n",
    "        \"total_mptime\": np.sum(mptimes),\n",
    "        \"total_sptime\": np.sum(sptimes),\n",
    "        \"iterations\": steps\n",
    "    }\n",
    "    print('mptime =', np.sum(mptimes))\n",
    "    print('sptime =', np.sum(sptimes))\n",
    "    return rec, info"
   ]
  },
  {
   "cell_type": "code",
   "execution_count": 4,
   "metadata": {},
   "outputs": [],
   "source": [
    "model = PPO.load(\"ppo_benders_model\", env=env)\n",
    "\n",
    "rl_policy = PPOPolicy(model, env)\n",
    "baseline_rand = RandomPolicy(env)\n",
    "baseline_exp = ExponentialPolicy(env, 0.3, 0.8)\n",
    "baseline_opt = OptimalPolicy(env, )"
   ]
  },
  {
   "cell_type": "code",
   "execution_count": null,
   "metadata": {},
   "outputs": [],
   "source": [
    "n_episodes = 50\n",
    "# 4) Run evaluations\n",
    "recs_ppo = []\n",
    "recs_opt = []\n",
    "recs_const = []\n",
    "recs_rand = []\n",
    "\n",
    "for i in range(n_episodes):\n",
    "    rec_ppo, info = evaluate_n(rl_policy, env, \"RL\", seed=i+10)\n",
    "    recs_ppo.append(rec_ppo)\n",
    "\n",
    "    rec_opt, info = evaluate_n(baseline_opt, env, \"Optimal\", seed=i+10)\n",
    "    recs_opt.append(rec_opt)\n",
    "\n",
    "    rec_exp, info = evaluate_n(baseline_exp, env, \"Exponential\", seed=i+10)\n",
    "    recs_const.append(rec_exp)\n",
    "\n",
    "    rec_rand, info = evaluate_n(baseline_rand, env, \"Random\", seed=i+10)\n",
    "    recs_rand.append(rec_rand)"
   ]
  },
  {
   "cell_type": "code",
   "execution_count": null,
   "metadata": {},
   "outputs": [],
   "source": [
    "# df = pd.read_csv('computational_results.csv')\n",
    "df = pd.DataFrame(recs_ppo + recs_opt + recs_const + recs_rand)\n",
    "\n",
    "df['total_runtime'] = df['total_mptime'] + df['total_sptime']\n",
    "summary = df.groupby(\"policy\").mean().reset_index()\n",
    "metrics = [\"total_reward\", \"avg_runtime\", \"total_runtime\", \"iterations\"]\n",
    "x = np.arange(len(metrics))\n",
    "\n",
    "df_base = df[df['policy']=='Optimal']\n",
    "df_base = df_base.reset_index(drop=True)\n",
    "df_base['policy'] = 'Optimal'\n",
    "\n",
    "df_base_rand = df[df['policy']=='Random']\n",
    "df_base_rand = df_base_rand.reset_index(drop=True)\n",
    "df_base_rand['policy'] = 'Random'\n",
    "\n",
    "df_base_const = df[df['policy']=='Constant']\n",
    "df_base_const = df_base_const.reset_index(drop=True)\n",
    "df_base_const['policy'] = 'Constant'\n",
    "\n",
    "df_ppo = df[df['policy']=='DRL']\n",
    "df_ppo = df_ppo.reset_index(drop=True)\n",
    "df_ppo['policy'] = 'DRL'"
   ]
  },
  {
   "cell_type": "code",
   "execution_count": null,
   "metadata": {},
   "outputs": [],
   "source": [
    "# df.to_csv('test_stat_data.csv', index=False, encoding='utf-8')"
   ]
  },
  {
   "cell_type": "code",
   "execution_count": 5,
   "metadata": {},
   "outputs": [],
   "source": [
    "def data_clean(df):\n",
    "    \"\"\"\n",
    "    Delete one outlier.\n",
    "    \"\"\"\n",
    "\n",
    "    max_idxs = df.groupby('policy')['total_mptime'].idxmax()\n",
    "    df_clean = df.drop(max_idxs).reset_index(drop=True)\n",
    "\n",
    "    return df_clean\n",
    "df = pd.read_csv('test_stats_data.csv')\n",
    "df = data_clean(df)\n",
    "df['num_prod'] = 5\n"
   ]
  },
  {
   "cell_type": "code",
   "execution_count": 6,
   "metadata": {},
   "outputs": [
    {
     "data": {
      "application/vnd.plotly.v1+json": {
       "config": {
        "plotlyServerURL": "https://plot.ly"
       },
       "data": [
        {
         "boxpoints": "all",
         "marker": {
          "color": "rgb(255,127,14)"
         },
         "name": "RL-iGBD",
         "showlegend": true,
         "type": "box",
         "xaxis": "x",
         "y": [
          1.7394120693206787,
          1.672708511352539,
          1.6847269535064695,
          1.689422369003296,
          1.728240728378296,
          1.835609436035156,
          1.6687853336334229,
          1.696263551712036,
          1.702296495437622,
          1.6807379722595217,
          1.6880524158477783,
          1.6860740184783936,
          1.694978952407837,
          1.8400447368621824,
          1.7059485912322998,
          1.750261306762695,
          1.830033779144287,
          1.762059450149536,
          1.744831085205078,
          1.7290804386138916,
          1.9767954349517824,
          1.853480577468872,
          1.8786158561706543,
          1.764204978942871,
          1.7271711826324463,
          1.7075603008270264,
          1.7431035041809082,
          1.7218029499053955,
          1.7624495029449463,
          1.7821240425109863,
          1.8277666568756104,
          1.806206226348877,
          1.8954846858978271,
          1.792936086654663,
          1.8318257331848145,
          1.8611743450164795,
          1.8018367290496824,
          1.7502238750457764,
          1.7479212284088137,
          1.720665693283081,
          1.7682135105133057,
          2.021038293838501,
          1.7446584701538086,
          1.734381914138794,
          1.7577738761901855,
          1.764892816543579,
          1.9061334133148196,
          1.860127687454224,
          2.197237014770508
         ],
         "yaxis": "y"
        },
        {
         "boxpoints": "all",
         "marker": {
          "color": "rgb(44,160,44)"
         },
         "name": "Rand-iGBD",
         "showlegend": true,
         "type": "box",
         "xaxis": "x",
         "y": [
          2.105210065841675,
          2.4499764442443848,
          2.1687915325164795,
          1.984570264816284,
          2.1461968421936035,
          2.2649190425872803,
          2.103058338165283,
          1.9189002513885496,
          2.3649959564208984,
          2.13866925239563,
          2.097250938415528,
          2.155496120452881,
          1.9263112545013428,
          2.281254529953003,
          2.4951159954071045,
          2.1665964126586914,
          2.300992012023926,
          2.1752912998199463,
          1.9529731273651123,
          2.5183842182159424,
          2.615305185317993,
          2.375072240829468,
          2.1112122535705566,
          2.24167275428772,
          2.039824247360229,
          2.022934913635254,
          2.133697986602783,
          2.4042065143585205,
          2.1344568729400635,
          2.1134696006774902,
          2.264319896697998,
          2.241847276687622,
          2.385951280593872,
          2.579720973968506,
          2.036923408508301,
          2.231083631515503,
          2.7739856243133545,
          2.2411043643951416,
          2.2325775623321533,
          2.183891773223877,
          2.271947860717773,
          2.5561208724975586,
          2.659625291824341,
          2.223029851913452,
          2.415473461151123,
          2.684177160263061,
          2.438920021057129,
          2.713744640350342,
          2.201887607574463
         ],
         "yaxis": "y"
        },
        {
         "boxpoints": "all",
         "marker": {
          "color": "rgb(148,103,189)"
         },
         "name": "Exp-iGBD",
         "showlegend": true,
         "type": "box",
         "xaxis": "x",
         "y": [
          2.388885974884033,
          2.3616926670074463,
          2.365555047988892,
          2.504396677017212,
          2.4514546394348145,
          2.370020627975464,
          2.3455581665039062,
          2.404921770095825,
          2.359145164489746,
          2.3656022548675537,
          2.387709379196167,
          2.4548590183258057,
          2.395882606506348,
          2.3767569065093994,
          2.6383776664733887,
          2.461317777633667,
          2.520190954208374,
          2.4439876079559326,
          2.4462831020355225,
          2.5497848987579346,
          2.501554012298584,
          2.5308291912078857,
          2.466463327407837,
          2.4491701126098637,
          2.424021482467652,
          2.454852819442749,
          2.5718863010406494,
          2.497278928756714,
          2.4462132453918457,
          2.5502960681915283,
          2.4953713417053223,
          2.572613477706909,
          2.51117205619812,
          2.5629329681396484,
          2.540657520294189,
          2.5890607833862305,
          2.519857168197632,
          2.534370183944702,
          2.4584708213806152,
          2.4442925453186035,
          2.45497465133667,
          2.5305182933807373,
          2.533972978591919,
          2.522524118423462,
          2.5204710960388184,
          2.481279134750366,
          2.760690927505493,
          2.6141016483306885,
          2.6353681087493896
         ],
         "yaxis": "y"
        },
        {
         "boxpoints": "all",
         "marker": {
          "color": "rgb(31,119,180)"
         },
         "name": "GBD",
         "showlegend": true,
         "type": "box",
         "xaxis": "x",
         "y": [
          2.801997184753418,
          2.6621150970458984,
          2.6641674041748047,
          3.073110580444336,
          2.701162099838257,
          2.7258777618408203,
          2.660658359527588,
          2.645235300064087,
          2.7131166458129883,
          2.648425817489624,
          2.661372184753418,
          2.6860454082489014,
          2.7421560287475586,
          2.6505634784698486,
          3.0275206565856934,
          2.823897361755371,
          2.7377305030822754,
          2.760878562927246,
          2.7925708293914795,
          3.1465773582458496,
          2.8258190155029297,
          2.81345272064209,
          2.79069447517395,
          2.7883310317993164,
          2.741267442703247,
          2.7287070751190186,
          2.7573082447052,
          2.7652125358581543,
          3.2090327739715576,
          2.8082571029663086,
          2.767244577407837,
          2.9454505443573,
          2.875891923904419,
          2.928572416305542,
          2.912210464477539,
          2.848728656768799,
          2.809301376342773,
          2.761651039123535,
          2.838916540145874,
          2.7455437183380127,
          2.856070041656494,
          3.3202333450317383,
          2.757516384124756,
          2.753772258758545,
          2.8008198738098145,
          2.846937417984009,
          2.954827785491944,
          2.83880877494812,
          3.12173080444336
         ],
         "yaxis": "y"
        },
        {
         "boxpoints": "all",
         "marker": {
          "color": "rgb(255,127,14)"
         },
         "name": "RL-iGBD",
         "showlegend": false,
         "type": "box",
         "xaxis": "x2",
         "y": [
          6.629995584487915,
          6.602329969406128,
          6.639366626739502,
          6.751858472824097,
          6.8217315673828125,
          7.303272724151611,
          6.483729600906372,
          6.57470178604126,
          6.510720729827881,
          6.497223377227783,
          6.522268772125244,
          6.518604278564453,
          6.610340118408203,
          6.706454038619995,
          6.60099196434021,
          6.489881277084351,
          6.618580102920532,
          6.559032201766968,
          6.515995025634766,
          6.466150760650635,
          7.024575710296631,
          6.970448732376099,
          7.379273414611816,
          6.880452871322632,
          6.882682085037232,
          6.721348285675049,
          6.835627794265747,
          6.695312261581421,
          6.899612903594971,
          6.989762306213379,
          6.9008660316467285,
          6.995911121368408,
          6.874312877655029,
          6.972052097320557,
          6.948772430419922,
          7.003451108932495,
          7.0070765018463135,
          6.611512899398804,
          6.588216066360474,
          6.597645998001099,
          6.593263626098633,
          7.73375129699707,
          7.05538010597229,
          7.025210618972778,
          7.111852407455444,
          7.092190265655518,
          7.45125675201416,
          7.368415832519531,
          7.767855644226074
         ],
         "yaxis": "y2"
        },
        {
         "boxpoints": "all",
         "marker": {
          "color": "rgb(44,160,44)"
         },
         "name": "Rand-iGBD",
         "showlegend": false,
         "type": "box",
         "xaxis": "x2",
         "y": [
          6.634601831436157,
          7.213268518447876,
          6.622413158416748,
          6.51289701461792,
          6.821880340576172,
          6.95613431930542,
          6.504644393920898,
          6.329513788223267,
          7.0256664752960205,
          6.636654615402222,
          6.746498346328735,
          6.657202959060669,
          6.596003770828247,
          7.079892158508301,
          6.847611427307129,
          6.626441478729248,
          6.584420442581177,
          6.636121511459351,
          6.262698650360107,
          7.660737037658691,
          7.618273496627808,
          7.063850164413452,
          6.943933963775635,
          6.868880271911621,
          7.043638467788696,
          6.65514612197876,
          6.969156503677368,
          7.419156074523926,
          6.862779140472412,
          6.708372116088867,
          7.046414136886597,
          7.073369979858398,
          7.2829749584198,
          7.366348743438721,
          6.605005502700806,
          6.825649976730347,
          7.978063583374023,
          6.775223016738892,
          6.529847860336304,
          6.680940628051758,
          7.211900472640991,
          7.686011791229248,
          7.733159065246582,
          7.090353012084961,
          7.840496063232422,
          8.001023769378662,
          7.453075647354126,
          8.52106523513794,
          7.134955644607544
         ],
         "yaxis": "y2"
        },
        {
         "boxpoints": "all",
         "marker": {
          "color": "rgb(148,103,189)"
         },
         "name": "Exp-iGBD",
         "showlegend": false,
         "type": "box",
         "xaxis": "x2",
         "y": [
          7.145905256271362,
          6.8827080726623535,
          6.9417924880981445,
          7.085267066955566,
          7.1422271728515625,
          6.951629400253296,
          6.831000328063965,
          6.841317176818848,
          6.871014595031738,
          6.87714695930481,
          6.941798210144043,
          6.9652626514434814,
          6.949631214141846,
          7.14417839050293,
          7.62033486366272,
          6.853171110153198,
          6.941278457641602,
          6.932438611984253,
          6.859007358551025,
          7.039693832397461,
          7.467403650283813,
          7.353998899459839,
          7.167910099029541,
          7.133360385894775,
          7.32936429977417,
          7.158726930618286,
          7.496184349060059,
          7.200409650802612,
          7.233649730682373,
          7.166465520858765,
          7.416698455810547,
          7.354052543640137,
          7.300531148910522,
          7.295284032821655,
          7.328258752822876,
          7.402623414993286,
          7.469711065292358,
          7.056292772293091,
          6.981184482574463,
          7.010249137878418,
          7.530884027481079,
          7.655318260192871,
          7.944696664810181,
          7.444615840911865,
          7.423662662506103,
          7.36800217628479,
          7.746877908706665,
          7.616703271865845,
          7.921101093292236
         ],
         "yaxis": "y2"
        },
        {
         "boxpoints": "all",
         "marker": {
          "color": "rgb(31,119,180)"
         },
         "name": "GBD",
         "showlegend": false,
         "type": "box",
         "xaxis": "x2",
         "y": [
          7.273985862731934,
          7.050683975219727,
          7.0563437938690186,
          7.676471710205078,
          6.923171281814575,
          7.168913841247559,
          6.842664480209351,
          6.919258832931519,
          7.031881809234619,
          6.8616042137146,
          6.917165279388428,
          7.091811895370483,
          6.997862339019775,
          6.964312314987183,
          7.820652484893799,
          7.030158758163452,
          6.921324729919434,
          6.929330110549927,
          7.011610746383667,
          7.39688777923584,
          7.338729619979858,
          7.346603155136108,
          7.238090991973877,
          7.265941858291626,
          7.257193088531494,
          7.24744176864624,
          7.451194763183594,
          7.229829549789429,
          7.909369945526123,
          7.440041780471802,
          7.292977333068848,
          7.451909065246582,
          7.556389570236206,
          7.4460673332214355,
          7.422237873077393,
          7.444698333740234,
          7.416497230529785,
          7.003235816955566,
          7.113359212875366,
          6.9997875690460205,
          7.687239646911621,
          8.926107406616211,
          7.385534048080444,
          7.360592365264893,
          7.455862998962402,
          7.411578893661499,
          7.645506381988525,
          7.540881872177124,
          8.31891918182373
         ],
         "yaxis": "y2"
        }
       ],
       "layout": {
        "annotations": [
         {
          "font": {
           "size": 16
          },
          "showarrow": false,
          "text": "<span style='font-size:20px;'> Five Products: Master Runtime </span>",
          "x": 0.22,
          "xanchor": "center",
          "xref": "paper",
          "y": 1,
          "yanchor": "bottom",
          "yref": "paper"
         },
         {
          "font": {
           "size": 16
          },
          "showarrow": false,
          "text": "<span style='font-size:20px;'> Five Products: Total Runtime </span>",
          "x": 0.78,
          "xanchor": "center",
          "xref": "paper",
          "y": 1,
          "yanchor": "bottom",
          "yref": "paper"
         }
        ],
        "font": {
         "color": "black",
         "family": "Times New Roman",
         "size": 18
        },
        "height": 440,
        "margin": {
         "b": 0,
         "l": 70,
         "r": 10,
         "t": 25
        },
        "paper_bgcolor": "white",
        "plot_bgcolor": "white",
        "showlegend": false,
        "template": {
         "data": {
          "bar": [
           {
            "error_x": {
             "color": "#2a3f5f"
            },
            "error_y": {
             "color": "#2a3f5f"
            },
            "marker": {
             "line": {
              "color": "#E5ECF6",
              "width": 0.5
             },
             "pattern": {
              "fillmode": "overlay",
              "size": 10,
              "solidity": 0.2
             }
            },
            "type": "bar"
           }
          ],
          "barpolar": [
           {
            "marker": {
             "line": {
              "color": "#E5ECF6",
              "width": 0.5
             },
             "pattern": {
              "fillmode": "overlay",
              "size": 10,
              "solidity": 0.2
             }
            },
            "type": "barpolar"
           }
          ],
          "carpet": [
           {
            "aaxis": {
             "endlinecolor": "#2a3f5f",
             "gridcolor": "white",
             "linecolor": "white",
             "minorgridcolor": "white",
             "startlinecolor": "#2a3f5f"
            },
            "baxis": {
             "endlinecolor": "#2a3f5f",
             "gridcolor": "white",
             "linecolor": "white",
             "minorgridcolor": "white",
             "startlinecolor": "#2a3f5f"
            },
            "type": "carpet"
           }
          ],
          "choropleth": [
           {
            "colorbar": {
             "outlinewidth": 0,
             "ticks": ""
            },
            "type": "choropleth"
           }
          ],
          "contour": [
           {
            "colorbar": {
             "outlinewidth": 0,
             "ticks": ""
            },
            "colorscale": [
             [
              0,
              "#0d0887"
             ],
             [
              0.1111111111111111,
              "#46039f"
             ],
             [
              0.2222222222222222,
              "#7201a8"
             ],
             [
              0.3333333333333333,
              "#9c179e"
             ],
             [
              0.4444444444444444,
              "#bd3786"
             ],
             [
              0.5555555555555556,
              "#d8576b"
             ],
             [
              0.6666666666666666,
              "#ed7953"
             ],
             [
              0.7777777777777778,
              "#fb9f3a"
             ],
             [
              0.8888888888888888,
              "#fdca26"
             ],
             [
              1,
              "#f0f921"
             ]
            ],
            "type": "contour"
           }
          ],
          "contourcarpet": [
           {
            "colorbar": {
             "outlinewidth": 0,
             "ticks": ""
            },
            "type": "contourcarpet"
           }
          ],
          "heatmap": [
           {
            "colorbar": {
             "outlinewidth": 0,
             "ticks": ""
            },
            "colorscale": [
             [
              0,
              "#0d0887"
             ],
             [
              0.1111111111111111,
              "#46039f"
             ],
             [
              0.2222222222222222,
              "#7201a8"
             ],
             [
              0.3333333333333333,
              "#9c179e"
             ],
             [
              0.4444444444444444,
              "#bd3786"
             ],
             [
              0.5555555555555556,
              "#d8576b"
             ],
             [
              0.6666666666666666,
              "#ed7953"
             ],
             [
              0.7777777777777778,
              "#fb9f3a"
             ],
             [
              0.8888888888888888,
              "#fdca26"
             ],
             [
              1,
              "#f0f921"
             ]
            ],
            "type": "heatmap"
           }
          ],
          "heatmapgl": [
           {
            "colorbar": {
             "outlinewidth": 0,
             "ticks": ""
            },
            "colorscale": [
             [
              0,
              "#0d0887"
             ],
             [
              0.1111111111111111,
              "#46039f"
             ],
             [
              0.2222222222222222,
              "#7201a8"
             ],
             [
              0.3333333333333333,
              "#9c179e"
             ],
             [
              0.4444444444444444,
              "#bd3786"
             ],
             [
              0.5555555555555556,
              "#d8576b"
             ],
             [
              0.6666666666666666,
              "#ed7953"
             ],
             [
              0.7777777777777778,
              "#fb9f3a"
             ],
             [
              0.8888888888888888,
              "#fdca26"
             ],
             [
              1,
              "#f0f921"
             ]
            ],
            "type": "heatmapgl"
           }
          ],
          "histogram": [
           {
            "marker": {
             "pattern": {
              "fillmode": "overlay",
              "size": 10,
              "solidity": 0.2
             }
            },
            "type": "histogram"
           }
          ],
          "histogram2d": [
           {
            "colorbar": {
             "outlinewidth": 0,
             "ticks": ""
            },
            "colorscale": [
             [
              0,
              "#0d0887"
             ],
             [
              0.1111111111111111,
              "#46039f"
             ],
             [
              0.2222222222222222,
              "#7201a8"
             ],
             [
              0.3333333333333333,
              "#9c179e"
             ],
             [
              0.4444444444444444,
              "#bd3786"
             ],
             [
              0.5555555555555556,
              "#d8576b"
             ],
             [
              0.6666666666666666,
              "#ed7953"
             ],
             [
              0.7777777777777778,
              "#fb9f3a"
             ],
             [
              0.8888888888888888,
              "#fdca26"
             ],
             [
              1,
              "#f0f921"
             ]
            ],
            "type": "histogram2d"
           }
          ],
          "histogram2dcontour": [
           {
            "colorbar": {
             "outlinewidth": 0,
             "ticks": ""
            },
            "colorscale": [
             [
              0,
              "#0d0887"
             ],
             [
              0.1111111111111111,
              "#46039f"
             ],
             [
              0.2222222222222222,
              "#7201a8"
             ],
             [
              0.3333333333333333,
              "#9c179e"
             ],
             [
              0.4444444444444444,
              "#bd3786"
             ],
             [
              0.5555555555555556,
              "#d8576b"
             ],
             [
              0.6666666666666666,
              "#ed7953"
             ],
             [
              0.7777777777777778,
              "#fb9f3a"
             ],
             [
              0.8888888888888888,
              "#fdca26"
             ],
             [
              1,
              "#f0f921"
             ]
            ],
            "type": "histogram2dcontour"
           }
          ],
          "mesh3d": [
           {
            "colorbar": {
             "outlinewidth": 0,
             "ticks": ""
            },
            "type": "mesh3d"
           }
          ],
          "parcoords": [
           {
            "line": {
             "colorbar": {
              "outlinewidth": 0,
              "ticks": ""
             }
            },
            "type": "parcoords"
           }
          ],
          "pie": [
           {
            "automargin": true,
            "type": "pie"
           }
          ],
          "scatter": [
           {
            "fillpattern": {
             "fillmode": "overlay",
             "size": 10,
             "solidity": 0.2
            },
            "type": "scatter"
           }
          ],
          "scatter3d": [
           {
            "line": {
             "colorbar": {
              "outlinewidth": 0,
              "ticks": ""
             }
            },
            "marker": {
             "colorbar": {
              "outlinewidth": 0,
              "ticks": ""
             }
            },
            "type": "scatter3d"
           }
          ],
          "scattercarpet": [
           {
            "marker": {
             "colorbar": {
              "outlinewidth": 0,
              "ticks": ""
             }
            },
            "type": "scattercarpet"
           }
          ],
          "scattergeo": [
           {
            "marker": {
             "colorbar": {
              "outlinewidth": 0,
              "ticks": ""
             }
            },
            "type": "scattergeo"
           }
          ],
          "scattergl": [
           {
            "marker": {
             "colorbar": {
              "outlinewidth": 0,
              "ticks": ""
             }
            },
            "type": "scattergl"
           }
          ],
          "scattermapbox": [
           {
            "marker": {
             "colorbar": {
              "outlinewidth": 0,
              "ticks": ""
             }
            },
            "type": "scattermapbox"
           }
          ],
          "scatterpolar": [
           {
            "marker": {
             "colorbar": {
              "outlinewidth": 0,
              "ticks": ""
             }
            },
            "type": "scatterpolar"
           }
          ],
          "scatterpolargl": [
           {
            "marker": {
             "colorbar": {
              "outlinewidth": 0,
              "ticks": ""
             }
            },
            "type": "scatterpolargl"
           }
          ],
          "scatterternary": [
           {
            "marker": {
             "colorbar": {
              "outlinewidth": 0,
              "ticks": ""
             }
            },
            "type": "scatterternary"
           }
          ],
          "surface": [
           {
            "colorbar": {
             "outlinewidth": 0,
             "ticks": ""
            },
            "colorscale": [
             [
              0,
              "#0d0887"
             ],
             [
              0.1111111111111111,
              "#46039f"
             ],
             [
              0.2222222222222222,
              "#7201a8"
             ],
             [
              0.3333333333333333,
              "#9c179e"
             ],
             [
              0.4444444444444444,
              "#bd3786"
             ],
             [
              0.5555555555555556,
              "#d8576b"
             ],
             [
              0.6666666666666666,
              "#ed7953"
             ],
             [
              0.7777777777777778,
              "#fb9f3a"
             ],
             [
              0.8888888888888888,
              "#fdca26"
             ],
             [
              1,
              "#f0f921"
             ]
            ],
            "type": "surface"
           }
          ],
          "table": [
           {
            "cells": {
             "fill": {
              "color": "#EBF0F8"
             },
             "line": {
              "color": "white"
             }
            },
            "header": {
             "fill": {
              "color": "#C8D4E3"
             },
             "line": {
              "color": "white"
             }
            },
            "type": "table"
           }
          ]
         },
         "layout": {
          "annotationdefaults": {
           "arrowcolor": "#2a3f5f",
           "arrowhead": 0,
           "arrowwidth": 1
          },
          "autotypenumbers": "strict",
          "coloraxis": {
           "colorbar": {
            "outlinewidth": 0,
            "ticks": ""
           }
          },
          "colorscale": {
           "diverging": [
            [
             0,
             "#8e0152"
            ],
            [
             0.1,
             "#c51b7d"
            ],
            [
             0.2,
             "#de77ae"
            ],
            [
             0.3,
             "#f1b6da"
            ],
            [
             0.4,
             "#fde0ef"
            ],
            [
             0.5,
             "#f7f7f7"
            ],
            [
             0.6,
             "#e6f5d0"
            ],
            [
             0.7,
             "#b8e186"
            ],
            [
             0.8,
             "#7fbc41"
            ],
            [
             0.9,
             "#4d9221"
            ],
            [
             1,
             "#276419"
            ]
           ],
           "sequential": [
            [
             0,
             "#0d0887"
            ],
            [
             0.1111111111111111,
             "#46039f"
            ],
            [
             0.2222222222222222,
             "#7201a8"
            ],
            [
             0.3333333333333333,
             "#9c179e"
            ],
            [
             0.4444444444444444,
             "#bd3786"
            ],
            [
             0.5555555555555556,
             "#d8576b"
            ],
            [
             0.6666666666666666,
             "#ed7953"
            ],
            [
             0.7777777777777778,
             "#fb9f3a"
            ],
            [
             0.8888888888888888,
             "#fdca26"
            ],
            [
             1,
             "#f0f921"
            ]
           ],
           "sequentialminus": [
            [
             0,
             "#0d0887"
            ],
            [
             0.1111111111111111,
             "#46039f"
            ],
            [
             0.2222222222222222,
             "#7201a8"
            ],
            [
             0.3333333333333333,
             "#9c179e"
            ],
            [
             0.4444444444444444,
             "#bd3786"
            ],
            [
             0.5555555555555556,
             "#d8576b"
            ],
            [
             0.6666666666666666,
             "#ed7953"
            ],
            [
             0.7777777777777778,
             "#fb9f3a"
            ],
            [
             0.8888888888888888,
             "#fdca26"
            ],
            [
             1,
             "#f0f921"
            ]
           ]
          },
          "colorway": [
           "#636efa",
           "#EF553B",
           "#00cc96",
           "#ab63fa",
           "#FFA15A",
           "#19d3f3",
           "#FF6692",
           "#B6E880",
           "#FF97FF",
           "#FECB52"
          ],
          "font": {
           "color": "#2a3f5f"
          },
          "geo": {
           "bgcolor": "white",
           "lakecolor": "white",
           "landcolor": "#E5ECF6",
           "showlakes": true,
           "showland": true,
           "subunitcolor": "white"
          },
          "hoverlabel": {
           "align": "left"
          },
          "hovermode": "closest",
          "mapbox": {
           "style": "light"
          },
          "paper_bgcolor": "white",
          "plot_bgcolor": "#E5ECF6",
          "polar": {
           "angularaxis": {
            "gridcolor": "white",
            "linecolor": "white",
            "ticks": ""
           },
           "bgcolor": "#E5ECF6",
           "radialaxis": {
            "gridcolor": "white",
            "linecolor": "white",
            "ticks": ""
           }
          },
          "scene": {
           "xaxis": {
            "backgroundcolor": "#E5ECF6",
            "gridcolor": "white",
            "gridwidth": 2,
            "linecolor": "white",
            "showbackground": true,
            "ticks": "",
            "zerolinecolor": "white"
           },
           "yaxis": {
            "backgroundcolor": "#E5ECF6",
            "gridcolor": "white",
            "gridwidth": 2,
            "linecolor": "white",
            "showbackground": true,
            "ticks": "",
            "zerolinecolor": "white"
           },
           "zaxis": {
            "backgroundcolor": "#E5ECF6",
            "gridcolor": "white",
            "gridwidth": 2,
            "linecolor": "white",
            "showbackground": true,
            "ticks": "",
            "zerolinecolor": "white"
           }
          },
          "shapedefaults": {
           "line": {
            "color": "#2a3f5f"
           }
          },
          "ternary": {
           "aaxis": {
            "gridcolor": "white",
            "linecolor": "white",
            "ticks": ""
           },
           "baxis": {
            "gridcolor": "white",
            "linecolor": "white",
            "ticks": ""
           },
           "bgcolor": "#E5ECF6",
           "caxis": {
            "gridcolor": "white",
            "linecolor": "white",
            "ticks": ""
           }
          },
          "title": {
           "x": 0.05
          },
          "xaxis": {
           "automargin": true,
           "gridcolor": "white",
           "linecolor": "white",
           "ticks": "",
           "title": {
            "standoff": 15
           },
           "zerolinecolor": "white",
           "zerolinewidth": 2
          },
          "yaxis": {
           "automargin": true,
           "gridcolor": "white",
           "linecolor": "white",
           "ticks": "",
           "title": {
            "standoff": 15
           },
           "zerolinecolor": "white",
           "zerolinewidth": 2
          }
         }
        },
        "width": 840,
        "xaxis": {
         "anchor": "y",
         "domain": [
          0,
          0.44
         ],
         "gridcolor": "lightgrey",
         "gridwidth": 1,
         "linecolor": "black",
         "mirror": true,
         "range": [
          -0.6,
          3.4
         ],
         "showgrid": false,
         "showline": true,
         "tickfont": {
          "family": "Times New Roman"
         },
         "ticks": "outside",
         "zeroline": false
        },
        "xaxis2": {
         "anchor": "y2",
         "domain": [
          0.56,
          1
         ],
         "gridcolor": "lightgrey",
         "gridwidth": 1,
         "linecolor": "black",
         "mirror": true,
         "range": [
          -0.6,
          3.4
         ],
         "showgrid": false,
         "showline": true,
         "tickfont": {
          "family": "Times New Roman"
         },
         "ticks": "outside",
         "zeroline": false
        },
        "yaxis": {
         "anchor": "x",
         "domain": [
          0,
          1
         ],
         "gridcolor": "lightgrey",
         "gridwidth": 1,
         "linecolor": "black",
         "mirror": true,
         "showgrid": true,
         "showline": true,
         "ticks": "outside",
         "title": {
          "font": {
           "family": "Times New Roman",
           "size": 20
          },
          "text": "Cumulative master runtime (s)"
         },
         "zeroline": false
        },
        "yaxis2": {
         "anchor": "x2",
         "domain": [
          0,
          1
         ],
         "gridcolor": "lightgrey",
         "gridwidth": 1,
         "linecolor": "black",
         "mirror": true,
         "showgrid": true,
         "showline": true,
         "ticks": "outside",
         "title": {
          "font": {
           "family": "Times New Roman",
           "size": 20
          },
          "text": "Cumulative total runtime (s)"
         },
         "zeroline": false
        }
       }
      }
     },
     "metadata": {},
     "output_type": "display_data"
    }
   ],
   "source": [
    "import plotly.express as px\n",
    "from plotly.subplots import make_subplots\n",
    "import plotly.graph_objects as go\n",
    "\n",
    "color_map = {\n",
    "    'RL':         'rgb(255,127,14)',\n",
    "    'Random':     'rgb(44,160,44)',\n",
    "    'Exponential':'rgb(148,103,189)',\n",
    "    'Optimal':    'rgb(31,119,180)',\n",
    "}\n",
    "\n",
    "label_map = {\n",
    "    'RL':          'RL-iGBD',\n",
    "    'Random':      'Rand-iGBD',\n",
    "    'Exponential': 'Exp-iGBD',\n",
    "    'Optimal':     'GBD'\n",
    "}\n",
    "\n",
    "scales = sorted(df['num_prod'].unique())\n",
    "n = len(scales)\n",
    "\n",
    "# bump cols to 3 so we can put an extra panel to the right\n",
    "cols = 2\n",
    "rows = 1\n",
    "\n",
    "# two titles for the two scales + one for the runtime plot of the second scale\n",
    "subplot_titles = [f\"<span style='font-size:20px;'> Five Products: Master Runtime </span>\"] + [f\"<span style='font-size:20px;'> Five Products: Total Runtime </span>\"]\n",
    "\n",
    "fig = make_subplots(\n",
    "    rows=rows, cols=cols,\n",
    "    subplot_titles=subplot_titles,\n",
    "    horizontal_spacing=0.12,\n",
    "    vertical_spacing=0.12\n",
    ")\n",
    "\n",
    "for i, scale in enumerate(scales):\n",
    "    r = 1\n",
    "    c = 1         # column 1 and 2\n",
    "    d = df[df['num_prod'] == scale]\n",
    "    # 1) the original total_mptime plots\n",
    "    for policy in ['RL', 'Random', 'Exponential', 'Optimal']:\n",
    "        fig.add_trace(\n",
    "            go.Box(\n",
    "                y=d.loc[d['policy'] == policy, 'total_mptime'],\n",
    "                name=label_map[policy],\n",
    "                boxpoints='all',\n",
    "                marker_color=color_map[policy],\n",
    "                showlegend=(i == 0)\n",
    "            ),\n",
    "            row=1, col=1\n",
    "        )\n",
    "\n",
    "    # 2) if this is the second scale (col==2), mirror it in col==3 with total_runtime\n",
    "    for policy in ['RL', 'Random', 'Exponential', 'Optimal']:\n",
    "        fig.add_trace(\n",
    "            go.Box(\n",
    "                y=d.loc[d['policy'] == policy, 'total_runtime'],\n",
    "                name=label_map[policy],\n",
    "                boxpoints='all',\n",
    "                marker_color=color_map[policy],\n",
    "                showlegend=False\n",
    "            ),\n",
    "            row=1, col=2\n",
    "        )\n",
    "\n",
    "# rest of your formatting unchanged...\n",
    "fig.update_xaxes(tickfont=dict(family=\"Times New Roman\"))\n",
    "fig.update_yaxes(row=1, col=1, title_text=\"Cumulative master runtime (s)\",\n",
    "                 title_font=dict(family=\"Times New Roman\", size=20))\n",
    "\n",
    "fig.update_yaxes(row=1, col=2, title_text=\"Cumulative total runtime (s)\",\n",
    "                 title_font=dict(family=\"Times New Roman\", size=20))\n",
    "\n",
    "fig.update_xaxes(showgrid=False, gridcolor='lightgrey', gridwidth=1,\n",
    "                 zeroline=False, showline=True, mirror=True,\n",
    "                 linecolor='black', ticks='outside')\n",
    "fig.update_yaxes(showgrid=True, gridcolor='lightgrey', gridwidth=1,\n",
    "                 zeroline=False, showline=True, mirror=True,\n",
    "                 linecolor='black', ticks='outside')\n",
    "\n",
    "fig.update_layout(\n",
    "    font=dict(family=\"Times New Roman\", color=\"black\", size=18),\n",
    "    height=440 * rows,\n",
    "    width=420 * cols,\n",
    "    showlegend=False,\n",
    "    margin=dict(l=70, r=10, t=25, b=0),\n",
    "    paper_bgcolor='white',\n",
    "    plot_bgcolor='white'\n",
    ")\n",
    "\n",
    "# pad the x-axis so boxes aren't jammed against the edges\n",
    "pad_left  = -0.6\n",
    "pad_right = len(label_map) - 0.6\n",
    "for cc in range(1, cols+1):\n",
    "    fig.update_xaxes(range=[pad_left, pad_right], row=1, col=cc)\n",
    "\n",
    "fig.show()"
   ]
  },
  {
   "cell_type": "code",
   "execution_count": null,
   "metadata": {},
   "outputs": [],
   "source": [
    "# fig.write_image(\"statistical_total.png\", scale=5)"
   ]
  }
 ],
 "metadata": {
  "kernelspec": {
   "display_name": "RL",
   "language": "python",
   "name": "python3"
  },
  "language_info": {
   "codemirror_mode": {
    "name": "ipython",
    "version": 3
   },
   "file_extension": ".py",
   "mimetype": "text/x-python",
   "name": "python",
   "nbconvert_exporter": "python",
   "pygments_lexer": "ipython3",
   "version": "3.10.13"
  }
 },
 "nbformat": 4,
 "nbformat_minor": 2
}
