{
 "cells": [
  {
   "cell_type": "code",
   "execution_count": 1,
   "metadata": {},
   "outputs": [],
   "source": [
    "import sys\n",
    "from pathlib import Path\n",
    "repo_root = Path.cwd().parent\n",
    "sys.path.insert(0, str(repo_root / \"src\"))\n",
    "\n",
    "import numpy as np\n",
    "import pandas as pd\n",
    "import random\n",
    "from stable_baselines3 import PPO\n",
    "from stable_baselines3.common.vec_env import DummyVecEnv, VecNormalize\n",
    "\n",
    "from GurobiParamEnv import InexactGBDEnv\n",
    "\n",
    "from policies import PPOPolicy, OptimalPolicy, RandomPolicy, ExponentialPolicy"
   ]
  },
  {
   "cell_type": "code",
   "execution_count": 2,
   "metadata": {},
   "outputs": [
    {
     "name": "stdout",
     "output_type": "stream",
     "text": [
      "Configuring transition blocks...\n",
      "Configuring initial transition blocks...\n",
      "Configuring scheduling block...\n",
      "Adding noise...\n",
      "In scheduling_opt, calculating transition time bounds...\n",
      "In scheduling_opt, calculating initial transition time bounds...\n",
      "Configuring transition cost bounds...\n",
      "Configuring initial transition cost bounds...\n"
     ]
    }
   ],
   "source": [
    "def make_env():\n",
    "    return InexactGBDEnv()\n",
    "\n",
    "# 1) Create and load the VecNormalize-wrapped env once\n",
    "raw_env = DummyVecEnv([make_env])\n",
    "env = VecNormalize.load(\"../models/vecnormalize_benders.pkl\", raw_env)\n",
    "env.training = False    # freeze running stats\n",
    "env.norm_reward = False # use true rewards\n",
    "\n",
    "# 2) Load trained PPO\n",
    "model = PPO.load(\"../models/ppo_benders_model\", env=env)\n",
    "\n",
    "# 3) Evaluation helper that seeds both numpy/python env and SB3\n",
    "def evaluate(agent, env, seed=0):\n",
    "    metrics = {\"reward\": [], \"mp_time\": [], \"sp_time\": [], \n",
    "               \"iterations\": [], \"true_gap\": [], \"master_gap_tol\": []}\n",
    "\n",
    "    np.random.seed(seed)\n",
    "    random.seed(seed)\n",
    "\n",
    "    obs = env.reset()\n",
    "    done = False\n",
    "    total_rew = 0.0\n",
    "\n",
    "    actions = []\n",
    "    while not done:\n",
    "        action, _ = agent.predict(obs, deterministic=True)\n",
    "        \n",
    "        obs, reward, done, info = env.step(action)\n",
    "        total_rew += reward[0]\n",
    "        actions.append(action)\n",
    "        metrics[\"reward\"].append(total_rew)\n",
    "        metrics[\"mp_time\"].append(info[0][\"mp_time\"])\n",
    "        metrics[\"sp_time\"].append(info[0][\"sp_time\"])\n",
    "        metrics[\"iterations\"].append(info[0][\"iteration\"])\n",
    "        metrics[\"true_gap\"].append(info[0][\"true gap\"])\n",
    "        metrics[\"master_gap_tol\"].append(info[0][\"master_gap_tol\"])\n",
    "\n",
    "    return metrics, actions"
   ]
  },
  {
   "cell_type": "code",
   "execution_count": 3,
   "metadata": {},
   "outputs": [
    {
     "name": "stdout",
     "output_type": "stream",
     "text": [
      "Configuring transition blocks...\n",
      "Configuring initial transition blocks...\n",
      "Configuring scheduling block...\n",
      "Adding noise...\n",
      "In scheduling_opt, calculating transition time bounds...\n",
      "In scheduling_opt, calculating initial transition time bounds...\n",
      "Configuring transition cost bounds...\n",
      "Configuring initial transition cost bounds...\n",
      "raw index: -0.19999999999999996\n",
      "true gap: 0.9999999970866963\n",
      "tolerance [0.3]\n",
      "Iteration: 1\n",
      "Set parameter Username\n",
      "Set parameter LicenseID to value 2589360\n",
      "Academic license - for non-commercial use only - expires 2025-11-23\n",
      "        0.00 seconds required for presolve\n",
      "        0.03 seconds required for solver\n",
      "        0.00 seconds required for postsolve\n",
      "raw index: -0.8\n",
      "true gap: 1.1467905276593253\n",
      "tolerance [0.11557905276593251]\n",
      "Iteration: 2\n",
      "        0.00 seconds required for presolve\n",
      "        0.03 seconds required for solver\n",
      "        0.00 seconds required for postsolve\n",
      "raw index: 0.0\n",
      "true gap: 0.4253094578057463\n",
      "tolerance [0.21315472890287315]\n",
      "Iteration: 3\n",
      "        0.00 seconds required for presolve\n",
      "        0.03 seconds required for solver\n",
      "        0.00 seconds required for postsolve\n",
      "raw index: -0.19999999999999996\n",
      "true gap: 0.4253094578057463\n",
      "tolerance [0.17072378312229852]\n",
      "Iteration: 4\n",
      "        0.00 seconds required for presolve\n",
      "        0.03 seconds required for solver\n",
      "        0.00 seconds required for postsolve\n",
      "raw index: 0.8\n",
      "true gap: 0.4253094578057463\n",
      "tolerance [0.3]\n",
      "Iteration: 5\n",
      "        0.00 seconds required for presolve\n",
      "        0.03 seconds required for solver\n",
      "        0.00 seconds required for postsolve\n",
      "raw index: -0.19999999999999996\n",
      "true gap: 0.4253094578057463\n",
      "tolerance [0.17072378312229852]\n",
      "Iteration: 6\n",
      "        0.00 seconds required for presolve\n",
      "        0.03 seconds required for solver\n",
      "        0.00 seconds required for postsolve\n",
      "raw index: 0.8\n",
      "true gap: 0.36998519556805953\n",
      "tolerance [0.3]\n",
      "Iteration: 7\n",
      "        0.00 seconds required for presolve\n",
      "        0.03 seconds required for solver\n",
      "        0.00 seconds required for postsolve\n",
      "raw index: -0.19999999999999996\n",
      "true gap: 0.26413199271178867\n",
      "tolerance [0.10625279708471547]\n",
      "Iteration: 8\n",
      "        0.00 seconds required for presolve\n",
      "        0.06 seconds required for solver\n",
      "        0.00 seconds required for postsolve\n",
      "raw index: 0.6000000000000001\n",
      "true gap: 0.25693678889161137\n",
      "tolerance [0.2057494311132891]\n",
      "Iteration: 9\n",
      "        0.00 seconds required for presolve\n",
      "        0.04 seconds required for solver\n",
      "        0.00 seconds required for postsolve\n",
      "raw index: -0.19999999999999996\n",
      "true gap: 0.18973518909888107\n",
      "tolerance [0.07649407563955243]\n",
      "Iteration: 10\n",
      "        0.00 seconds required for presolve\n",
      "        0.09 seconds required for solver\n",
      "        0.00 seconds required for postsolve\n",
      "raw index: 0.6000000000000001\n",
      "true gap: 0.15100770076347292\n",
      "tolerance [0.12100616061077835]\n",
      "Iteration: 11\n",
      "        0.00 seconds required for presolve\n",
      "        0.06 seconds required for solver\n",
      "        0.00 seconds required for postsolve\n",
      "raw index: 0.6000000000000001\n",
      "true gap: 0.15100770076347292\n",
      "tolerance [0.12100616061077835]\n",
      "Iteration: 12\n",
      "        0.00 seconds required for presolve\n",
      "        0.06 seconds required for solver\n",
      "        0.00 seconds required for postsolve\n",
      "raw index: 0.6000000000000001\n",
      "true gap: 0.15100770076347292\n",
      "tolerance [0.12100616061077835]\n",
      "Iteration: 13\n",
      "        0.00 seconds required for presolve\n",
      "        0.07 seconds required for solver\n",
      "        0.00 seconds required for postsolve\n",
      "raw index: 0.6000000000000001\n",
      "true gap: 0.15100770076347292\n",
      "tolerance [0.12100616061077835]\n",
      "Iteration: 14\n",
      "        0.00 seconds required for presolve\n",
      "        0.07 seconds required for solver\n",
      "        0.00 seconds required for postsolve\n",
      "raw index: 0.6000000000000001\n",
      "true gap: 0.13447450329048666\n",
      "tolerance [0.10777960263238934]\n",
      "Iteration: 15\n",
      "        0.00 seconds required for presolve\n",
      "        0.09 seconds required for solver\n",
      "        0.00 seconds required for postsolve\n",
      "raw index: 0.6000000000000001\n",
      "true gap: 0.13447450329048666\n",
      "tolerance [0.10777960263238934]\n",
      "Iteration: 16\n",
      "        0.00 seconds required for presolve\n",
      "        0.07 seconds required for solver\n",
      "        0.00 seconds required for postsolve\n",
      "raw index: 0.6000000000000001\n",
      "true gap: 0.10488173485814048\n",
      "tolerance [0.0841053878865124]\n",
      "Iteration: 17\n",
      "        0.00 seconds required for presolve\n",
      "        0.08 seconds required for solver\n",
      "        0.00 seconds required for postsolve\n",
      "raw index: 0.6000000000000001\n",
      "true gap: 0.10082899236739193\n",
      "tolerance [0.08086319389391355]\n",
      "Iteration: 18\n",
      "        0.00 seconds required for presolve\n",
      "        0.07 seconds required for solver\n",
      "        0.00 seconds required for postsolve\n",
      "raw index: 0.6000000000000001\n",
      "true gap: 0.0982621104600955\n",
      "tolerance [0.0788096883680764]\n",
      "Iteration: 19\n",
      "        0.00 seconds required for presolve\n",
      "        0.09 seconds required for solver\n",
      "        0.00 seconds required for postsolve\n",
      "raw index: 0.6000000000000001\n",
      "true gap: 0.07854326762522584\n",
      "tolerance [0.06303461410018067]\n",
      "Iteration: 20\n",
      "        0.00 seconds required for presolve\n",
      "        0.11 seconds required for solver\n",
      "        0.00 seconds required for postsolve\n",
      "raw index: 0.6000000000000001\n",
      "true gap: 0.048897557349828424\n",
      "tolerance [0.03931804587986274]\n",
      "Iteration: 21\n",
      "        0.00 seconds required for presolve\n",
      "        0.13 seconds required for solver\n",
      "        0.00 seconds required for postsolve\n",
      "raw index: -0.4\n",
      "true gap: 0.030071901949565938\n",
      "tolerance [0.00972157058486978]\n",
      "Iteration: 22\n",
      "        0.00 seconds required for presolve\n",
      "        0.17 seconds required for solver\n",
      "        0.00 seconds required for postsolve\n",
      "Configuring transition blocks...\n",
      "Configuring initial transition blocks...\n",
      "Configuring scheduling block...\n",
      "Adding noise...\n",
      "In scheduling_opt, calculating transition time bounds...\n",
      "In scheduling_opt, calculating initial transition time bounds...\n",
      "Configuring transition cost bounds...\n",
      "Configuring initial transition cost bounds...\n"
     ]
    }
   ],
   "source": [
    "rl_policy = PPOPolicy(model, env)\n",
    "rl_metrics, rl_actions = evaluate(rl_policy, env)"
   ]
  },
  {
   "cell_type": "code",
   "execution_count": 4,
   "metadata": {},
   "outputs": [
    {
     "name": "stdout",
     "output_type": "stream",
     "text": [
      "Configuring transition blocks...\n",
      "Configuring initial transition blocks...\n",
      "Configuring scheduling block...\n",
      "Adding noise...\n",
      "In scheduling_opt, calculating transition time bounds...\n",
      "In scheduling_opt, calculating initial transition time bounds...\n",
      "Configuring transition cost bounds...\n",
      "Configuring initial transition cost bounds...\n",
      "raw index: -1.0\n",
      "true gap: 0.9999999970866963\n",
      "tolerance [0.001]\n",
      "Iteration: 1\n",
      "        0.00 seconds required for presolve\n",
      "        0.09 seconds required for solver\n",
      "        0.00 seconds required for postsolve\n",
      "raw index: -1.0\n",
      "true gap: 0.4813094218067998\n",
      "tolerance [0.001]\n",
      "Iteration: 2\n",
      "        0.00 seconds required for presolve\n",
      "        0.06 seconds required for solver\n",
      "        0.00 seconds required for postsolve\n",
      "raw index: -1.0\n",
      "true gap: 0.37150511220186877\n",
      "tolerance [0.001]\n",
      "Iteration: 3\n",
      "        0.00 seconds required for presolve\n",
      "        0.08 seconds required for solver\n",
      "        0.00 seconds required for postsolve\n",
      "raw index: -1.0\n",
      "true gap: 0.37143644730204006\n",
      "tolerance [0.001]\n",
      "Iteration: 4\n",
      "        0.00 seconds required for presolve\n",
      "        0.09 seconds required for solver\n",
      "        0.00 seconds required for postsolve\n",
      "raw index: -1.0\n",
      "true gap: 0.3351731335171633\n",
      "tolerance [0.001]\n",
      "Iteration: 5\n",
      "        0.00 seconds required for presolve\n",
      "        0.10 seconds required for solver\n",
      "        0.00 seconds required for postsolve\n",
      "raw index: -1.0\n",
      "true gap: 0.2841178760335895\n",
      "tolerance [0.001]\n",
      "Iteration: 6\n",
      "        0.00 seconds required for presolve\n",
      "        0.11 seconds required for solver\n",
      "        0.00 seconds required for postsolve\n",
      "raw index: -1.0\n",
      "true gap: 0.26356932477388906\n",
      "tolerance [0.001]\n",
      "Iteration: 7\n",
      "        0.00 seconds required for presolve\n",
      "        0.11 seconds required for solver\n",
      "        0.00 seconds required for postsolve\n",
      "raw index: -1.0\n",
      "true gap: 0.2610866722332889\n",
      "tolerance [0.001]\n",
      "Iteration: 8\n",
      "        0.00 seconds required for presolve\n",
      "        0.12 seconds required for solver\n",
      "        0.00 seconds required for postsolve\n",
      "raw index: -1.0\n",
      "true gap: 0.25590547870779745\n",
      "tolerance [0.001]\n",
      "Iteration: 9\n",
      "        0.00 seconds required for presolve\n",
      "        0.12 seconds required for solver\n",
      "        0.00 seconds required for postsolve\n",
      "raw index: -1.0\n",
      "true gap: 0.2556090651039902\n",
      "tolerance [0.001]\n",
      "Iteration: 10\n",
      "        0.00 seconds required for presolve\n",
      "        0.13 seconds required for solver\n",
      "        0.00 seconds required for postsolve\n",
      "raw index: -1.0\n",
      "true gap: 0.11505006676427948\n",
      "tolerance [0.001]\n",
      "Iteration: 11\n",
      "        0.00 seconds required for presolve\n",
      "        0.14 seconds required for solver\n",
      "        0.00 seconds required for postsolve\n",
      "raw index: -1.0\n",
      "true gap: 0.11437889614119454\n",
      "tolerance [0.001]\n",
      "Iteration: 12\n",
      "        0.00 seconds required for presolve\n",
      "        0.14 seconds required for solver\n",
      "        0.00 seconds required for postsolve\n",
      "raw index: -1.0\n",
      "true gap: 0.09421532188767706\n",
      "tolerance [0.001]\n",
      "Iteration: 13\n",
      "        0.00 seconds required for presolve\n",
      "        0.13 seconds required for solver\n",
      "        0.00 seconds required for postsolve\n",
      "raw index: -1.0\n",
      "true gap: 0.06568485210753128\n",
      "tolerance [0.001]\n",
      "Iteration: 14\n",
      "        0.00 seconds required for presolve\n",
      "        0.15 seconds required for solver\n",
      "        0.00 seconds required for postsolve\n",
      "raw index: -1.0\n",
      "true gap: 0.06426994011860984\n",
      "tolerance [0.001]\n",
      "Iteration: 15\n",
      "        0.00 seconds required for presolve\n",
      "        0.15 seconds required for solver\n",
      "        0.00 seconds required for postsolve\n",
      "raw index: -1.0\n",
      "true gap: 0.0620091911110249\n",
      "tolerance [0.001]\n",
      "Iteration: 16\n",
      "        0.00 seconds required for presolve\n",
      "        0.14 seconds required for solver\n",
      "        0.00 seconds required for postsolve\n",
      "raw index: -1.0\n",
      "true gap: 0.014553707086519763\n",
      "tolerance [0.001]\n",
      "Iteration: 17\n",
      "        0.00 seconds required for presolve\n",
      "        0.16 seconds required for solver\n",
      "        0.00 seconds required for postsolve\n",
      "raw index: -1.0\n",
      "true gap: 0.01397816164793958\n",
      "tolerance [0.001]\n",
      "Iteration: 18\n",
      "        0.00 seconds required for presolve\n",
      "        0.16 seconds required for solver\n",
      "        0.00 seconds required for postsolve\n",
      "raw index: -1.0\n",
      "true gap: 0.013870882370630305\n",
      "tolerance [0.001]\n",
      "Iteration: 19\n",
      "        0.00 seconds required for presolve\n",
      "        0.15 seconds required for solver\n",
      "        0.00 seconds required for postsolve\n",
      "raw index: -1.0\n",
      "true gap: 0.004968841052173351\n",
      "tolerance [0.001]\n",
      "Iteration: 20\n",
      "        0.00 seconds required for presolve\n",
      "        0.17 seconds required for solver\n",
      "        0.00 seconds required for postsolve\n",
      "raw index: -1.0\n",
      "true gap: 0.003637120798823723\n",
      "tolerance [0.001]\n",
      "Iteration: 21\n",
      "        0.00 seconds required for presolve\n",
      "        0.17 seconds required for solver\n",
      "        0.00 seconds required for postsolve\n",
      "raw index: -1.0\n",
      "true gap: 0.0015817774424883302\n",
      "tolerance [0.001]\n",
      "Iteration: 22\n",
      "        0.00 seconds required for presolve\n",
      "        0.17 seconds required for solver\n",
      "        0.00 seconds required for postsolve\n",
      "Configuring transition blocks...\n",
      "Configuring initial transition blocks...\n",
      "Configuring scheduling block...\n",
      "Adding noise...\n",
      "In scheduling_opt, calculating transition time bounds...\n",
      "In scheduling_opt, calculating initial transition time bounds...\n",
      "Configuring transition cost bounds...\n",
      "Configuring initial transition cost bounds...\n"
     ]
    }
   ],
   "source": [
    "baseline_opt = OptimalPolicy(env)\n",
    "base_opt_metrics, base_opt_actions = evaluate(baseline_opt, env)\n"
   ]
  },
  {
   "cell_type": "code",
   "execution_count": 5,
   "metadata": {},
   "outputs": [
    {
     "name": "stdout",
     "output_type": "stream",
     "text": [
      "Configuring transition blocks...\n",
      "Configuring initial transition blocks...\n",
      "Configuring scheduling block...\n",
      "Adding noise...\n",
      "In scheduling_opt, calculating transition time bounds...\n",
      "In scheduling_opt, calculating initial transition time bounds...\n",
      "Configuring transition cost bounds...\n",
      "Configuring initial transition cost bounds...\n",
      "raw index: -0.19999999999999996\n",
      "true gap: 0.9999999970866963\n",
      "tolerance [0.3]\n",
      "Iteration: 1\n",
      "        0.00 seconds required for presolve\n",
      "        0.02 seconds required for solver\n",
      "        0.00 seconds required for postsolve\n",
      "raw index: 0.3999999999999999\n",
      "true gap: 1.1467905276593253\n",
      "tolerance [0.3]\n",
      "Iteration: 2\n",
      "        0.00 seconds required for presolve\n",
      "        0.02 seconds required for solver\n",
      "        0.00 seconds required for postsolve\n",
      "raw index: 0.19999999999999996\n",
      "true gap: 0.8818625851993578\n",
      "tolerance [0.3]\n",
      "Iteration: 3\n",
      "        0.00 seconds required for presolve\n",
      "        0.03 seconds required for solver\n",
      "        0.00 seconds required for postsolve\n",
      "raw index: 0.6000000000000001\n",
      "true gap: 0.4073171878506533\n",
      "tolerance [0.3]\n",
      "Iteration: 4\n",
      "        0.00 seconds required for presolve\n",
      "        0.03 seconds required for solver\n",
      "        0.00 seconds required for postsolve\n",
      "raw index: 0.6000000000000001\n",
      "true gap: 0.4073171878506533\n",
      "tolerance [0.3]\n",
      "Iteration: 5\n",
      "        0.00 seconds required for presolve\n",
      "        0.03 seconds required for solver\n",
      "        0.00 seconds required for postsolve\n",
      "raw index: 1.0\n",
      "true gap: 0.28280532250363144\n",
      "tolerance [0.28280532250363144]\n",
      "Iteration: 6\n",
      "        0.00 seconds required for presolve\n",
      "        0.03 seconds required for solver\n",
      "        0.00 seconds required for postsolve\n",
      "raw index: -0.8\n",
      "true gap: 0.22917845826623248\n",
      "tolerance [0.023817845826623243]\n",
      "Iteration: 7\n",
      "        0.00 seconds required for presolve\n",
      "        0.11 seconds required for solver\n",
      "        0.00 seconds required for postsolve\n",
      "raw index: 0.19999999999999996\n",
      "true gap: 0.10509695495924015\n",
      "tolerance [0.06345817297554408]\n",
      "Iteration: 8\n",
      "        0.00 seconds required for presolve\n",
      "        0.10 seconds required for solver\n",
      "        0.00 seconds required for postsolve\n",
      "raw index: 0.3999999999999999\n",
      "true gap: 0.10509695495924015\n",
      "tolerance [0.0738678684714681]\n",
      "Iteration: 9\n",
      "        0.00 seconds required for presolve\n",
      "        0.10 seconds required for solver\n",
      "        0.00 seconds required for postsolve\n",
      "raw index: 0.3999999999999999\n",
      "true gap: 0.10509695495924015\n",
      "tolerance [0.0738678684714681]\n",
      "Iteration: 10\n",
      "        0.00 seconds required for presolve\n",
      "        0.09 seconds required for solver\n",
      "        0.00 seconds required for postsolve\n",
      "raw index: 0.6000000000000001\n",
      "true gap: 0.10509695495924015\n",
      "tolerance [0.08427756396739212]\n",
      "Iteration: 11\n",
      "        0.00 seconds required for presolve\n",
      "        0.09 seconds required for solver\n",
      "        0.00 seconds required for postsolve\n",
      "raw index: -0.8\n",
      "true gap: 0.09277229870444803\n",
      "tolerance [0.010177229870444802]\n",
      "Iteration: 12\n",
      "        0.00 seconds required for presolve\n",
      "        0.14 seconds required for solver\n",
      "        0.00 seconds required for postsolve\n",
      "raw index: 0.0\n",
      "true gap: 0.07699298328924867\n",
      "tolerance [0.038996491644624334]\n",
      "Iteration: 13\n",
      "        0.00 seconds required for presolve\n",
      "        0.09 seconds required for solver\n",
      "        0.00 seconds required for postsolve\n",
      "raw index: 0.8\n",
      "true gap: 0.07699298328924867\n",
      "tolerance [0.0693936849603238]\n",
      "Iteration: 14\n",
      "        0.00 seconds required for presolve\n",
      "        0.09 seconds required for solver\n",
      "        0.00 seconds required for postsolve\n",
      "raw index: 0.6000000000000001\n",
      "true gap: 0.07699298328924867\n",
      "tolerance [0.06179438663139894]\n",
      "Iteration: 15\n",
      "        0.00 seconds required for presolve\n",
      "        0.08 seconds required for solver\n",
      "        0.00 seconds required for postsolve\n",
      "raw index: 0.8\n",
      "true gap: 0.07699298328924867\n",
      "tolerance [0.0693936849603238]\n",
      "Iteration: 16\n",
      "        0.00 seconds required for presolve\n",
      "        0.08 seconds required for solver\n",
      "        0.00 seconds required for postsolve\n",
      "raw index: -0.19999999999999996\n",
      "true gap: 0.07699298328924867\n",
      "tolerance [0.03139719331569947]\n",
      "Iteration: 17\n",
      "        0.00 seconds required for presolve\n",
      "        0.11 seconds required for solver\n",
      "        0.00 seconds required for postsolve\n",
      "raw index: -0.4\n",
      "true gap: 0.04374860515301135\n",
      "tolerance [0.013824581545903405]\n",
      "Iteration: 18\n",
      "        0.00 seconds required for presolve\n",
      "        0.15 seconds required for solver\n",
      "        0.00 seconds required for postsolve\n",
      "raw index: -1.0\n",
      "true gap: 0.032616825951057304\n",
      "tolerance [0.001]\n",
      "Iteration: 19\n",
      "        0.00 seconds required for presolve\n",
      "        0.16 seconds required for solver\n",
      "        0.00 seconds required for postsolve\n",
      "raw index: -0.4\n",
      "true gap: 0.024121354787795757\n",
      "tolerance [0.007936406436338726]\n",
      "Iteration: 20\n",
      "        0.00 seconds required for presolve\n",
      "        0.15 seconds required for solver\n",
      "        0.00 seconds required for postsolve\n",
      "raw index: 0.0\n",
      "true gap: 0.02353000473191305\n",
      "tolerance [0.012265002365956526]\n",
      "Iteration: 21\n",
      "        0.00 seconds required for presolve\n",
      "        0.16 seconds required for solver\n",
      "        0.00 seconds required for postsolve\n",
      "raw index: -1.0\n",
      "true gap: 0.004532782236024685\n",
      "tolerance [0.001]\n",
      "Iteration: 22\n",
      "        0.00 seconds required for presolve\n",
      "        0.16 seconds required for solver\n",
      "        0.00 seconds required for postsolve\n",
      "raw index: -0.6\n",
      "true gap: 0.0013896933436669534\n",
      "tolerance [0.0010779386687333908]\n",
      "Iteration: 23\n",
      "        0.00 seconds required for presolve\n",
      "        0.17 seconds required for solver\n",
      "        0.00 seconds required for postsolve\n",
      "Configuring transition blocks...\n",
      "Configuring initial transition blocks...\n",
      "Configuring scheduling block...\n",
      "Adding noise...\n",
      "In scheduling_opt, calculating transition time bounds...\n",
      "In scheduling_opt, calculating initial transition time bounds...\n",
      "Configuring transition cost bounds...\n",
      "Configuring initial transition cost bounds...\n"
     ]
    }
   ],
   "source": [
    "baseline_rand = RandomPolicy(env) # 0.001\n",
    "base_rand_metrics, base_rand_actions = evaluate(baseline_rand, env)"
   ]
  },
  {
   "cell_type": "code",
   "execution_count": 6,
   "metadata": {},
   "outputs": [
    {
     "name": "stdout",
     "output_type": "stream",
     "text": [
      "Configuring transition blocks...\n",
      "Configuring initial transition blocks...\n",
      "Configuring scheduling block...\n",
      "Adding noise...\n",
      "In scheduling_opt, calculating transition time bounds...\n",
      "In scheduling_opt, calculating initial transition time bounds...\n",
      "Configuring transition cost bounds...\n",
      "Configuring initial transition cost bounds...\n",
      "Iteration: 1\n",
      "        0.00 seconds required for presolve\n",
      "        0.02 seconds required for solver\n",
      "        0.00 seconds required for postsolve\n",
      "Iteration: 2\n",
      "        0.00 seconds required for presolve\n",
      "        0.02 seconds required for solver\n",
      "        0.00 seconds required for postsolve\n",
      "Iteration: 3\n",
      "        0.00 seconds required for presolve\n",
      "        0.03 seconds required for solver\n",
      "        0.00 seconds required for postsolve\n",
      "Iteration: 4\n",
      "        0.00 seconds required for presolve\n",
      "        0.04 seconds required for solver\n",
      "        0.00 seconds required for postsolve\n",
      "Iteration: 5\n",
      "        0.00 seconds required for presolve\n",
      "        0.03 seconds required for solver\n",
      "        0.00 seconds required for postsolve\n",
      "Iteration: 6\n",
      "        0.00 seconds required for presolve\n",
      "        0.06 seconds required for solver\n",
      "        0.00 seconds required for postsolve\n",
      "Iteration: 7\n",
      "        0.00 seconds required for presolve\n",
      "        0.07 seconds required for solver\n",
      "        0.00 seconds required for postsolve\n",
      "Iteration: 8\n",
      "        0.00 seconds required for presolve\n",
      "        0.11 seconds required for solver\n",
      "        0.00 seconds required for postsolve\n",
      "Iteration: 9\n",
      "        0.00 seconds required for presolve\n",
      "        0.12 seconds required for solver\n",
      "        0.00 seconds required for postsolve\n",
      "Iteration: 10\n",
      "        0.00 seconds required for presolve\n",
      "        0.13 seconds required for solver\n",
      "        0.00 seconds required for postsolve\n",
      "Iteration: 11\n",
      "        0.00 seconds required for presolve\n",
      "        0.13 seconds required for solver\n",
      "        0.00 seconds required for postsolve\n",
      "Iteration: 12\n",
      "        0.00 seconds required for presolve\n",
      "        0.14 seconds required for solver\n",
      "        0.00 seconds required for postsolve\n",
      "Iteration: 13\n",
      "        0.00 seconds required for presolve\n",
      "        0.13 seconds required for solver\n",
      "        0.00 seconds required for postsolve\n",
      "Iteration: 14\n",
      "        0.00 seconds required for presolve\n",
      "        0.14 seconds required for solver\n",
      "        0.00 seconds required for postsolve\n",
      "Iteration: 15\n",
      "        0.00 seconds required for presolve\n",
      "        0.15 seconds required for solver\n",
      "        0.00 seconds required for postsolve\n",
      "Iteration: 16\n",
      "        0.00 seconds required for presolve\n",
      "        0.15 seconds required for solver\n",
      "        0.00 seconds required for postsolve\n",
      "Iteration: 17\n",
      "        0.00 seconds required for presolve\n",
      "        0.14 seconds required for solver\n",
      "        0.00 seconds required for postsolve\n",
      "Iteration: 18\n",
      "        0.00 seconds required for presolve\n",
      "        0.15 seconds required for solver\n",
      "        0.00 seconds required for postsolve\n",
      "Iteration: 19\n",
      "        0.00 seconds required for presolve\n",
      "        0.15 seconds required for solver\n",
      "        0.00 seconds required for postsolve\n",
      "Iteration: 20\n",
      "        0.00 seconds required for presolve\n",
      "        0.17 seconds required for solver\n",
      "        0.00 seconds required for postsolve\n",
      "Iteration: 21\n",
      "        0.00 seconds required for presolve\n",
      "        0.18 seconds required for solver\n",
      "        0.00 seconds required for postsolve\n",
      "Iteration: 22\n",
      "        0.00 seconds required for presolve\n",
      "        0.17 seconds required for solver\n",
      "        0.00 seconds required for postsolve\n",
      "Iteration: 23\n",
      "        0.00 seconds required for presolve\n",
      "        0.16 seconds required for solver\n",
      "        0.00 seconds required for postsolve\n",
      "Configuring transition blocks...\n",
      "Configuring initial transition blocks...\n",
      "Configuring scheduling block...\n",
      "Adding noise...\n",
      "In scheduling_opt, calculating transition time bounds...\n",
      "In scheduling_opt, calculating initial transition time bounds...\n",
      "Configuring transition cost bounds...\n",
      "Configuring initial transition cost bounds...\n"
     ]
    }
   ],
   "source": [
    "baseline_exp = ExponentialPolicy(env, 0.3, 0.8)\n",
    "base_exp_metrics, base_exp_actions = evaluate(baseline_exp, env)"
   ]
  },
  {
   "cell_type": "code",
   "execution_count": 7,
   "metadata": {},
   "outputs": [],
   "source": [
    "# df = pd.read_csv(\"test_episode_data.csv\")\n",
    "# base_rand_metrics = df[df['policy'] == 'Random']\n",
    "# base_exp_metrics = df[df['policy'] == 'Exponential']\n",
    "# base_opt_metrics = df[df['policy'] == 'Optimal']\n",
    "# rl_metrics = df[df['policy'] == 'RL']\n",
    "# df"
   ]
  },
  {
   "cell_type": "code",
   "execution_count": 8,
   "metadata": {},
   "outputs": [
    {
     "data": {
      "application/vnd.plotly.v1+json": {
       "config": {
        "plotlyServerURL": "https://plot.ly"
       },
       "data": [
        {
         "marker": {
          "color": "rgb(255,127,14)"
         },
         "name": "DRL",
         "opacity": 0.8,
         "type": "bar",
         "x": [
          0,
          1,
          2,
          3,
          4,
          5,
          6,
          7,
          8,
          9,
          10,
          11,
          12,
          13,
          14,
          15,
          16,
          17,
          18,
          19,
          20,
          21,
          22
         ],
         "y": [
          0.03157496452331543,
          0.03400397300720215,
          0.026318788528442383,
          0.02667403221130371,
          0.02801990509033203,
          0.028934955596923828,
          0.03114914894104004,
          0.05727505683898926,
          0.036569833755493164,
          0.09021115303039551,
          0.05789899826049805,
          0.06421494483947754,
          0.066986083984375,
          0.07121706008911133,
          0.0881650447845459,
          0.06586813926696777,
          0.07687115669250488,
          0.07387089729309082,
          0.09244298934936523,
          0.11191511154174805,
          0.1259019374847412,
          0.16884684562683105,
          null
         ]
        },
        {
         "marker": {
          "color": "rgb(44,160,44)"
         },
         "name": "Random",
         "opacity": 0.8,
         "type": "bar",
         "x": [
          0,
          1,
          2,
          3,
          4,
          5,
          6,
          7,
          8,
          9,
          10,
          11,
          12,
          13,
          14,
          15,
          16,
          17,
          18,
          19,
          20,
          21,
          22
         ],
         "y": [
          0.022302865982055664,
          0.02426290512084961,
          0.025329113006591797,
          0.02673816680908203,
          0.032611846923828125,
          0.029015779495239258,
          0.10944986343383789,
          0.09458518028259277,
          0.09525012969970703,
          0.09200501441955566,
          0.08712506294250488,
          0.14066100120544434,
          0.0892019271850586,
          0.08937501907348633,
          0.08264684677124023,
          0.07908201217651367,
          0.11308789253234863,
          0.1497790813446045,
          0.15741205215454102,
          0.151472806930542,
          0.16406989097595215,
          0.16407299041748047,
          0.1677238941192627
         ]
        },
        {
         "marker": {
          "color": "rgb(148,103,189)"
         },
         "name": "Exponential",
         "opacity": 0.8,
         "type": "bar",
         "x": [
          0,
          1,
          2,
          3,
          4,
          5,
          6,
          7,
          8,
          9,
          10,
          11,
          12,
          13,
          14,
          15,
          16,
          17,
          18,
          19,
          20,
          21,
          22
         ],
         "y": [
          0.021898984909057617,
          0.023758888244628906,
          0.026452064514160156,
          0.035121917724609375,
          0.027238130569458008,
          0.05849409103393555,
          0.068572998046875,
          0.11223602294921875,
          0.12107706069946289,
          0.12857699394226074,
          0.12921595573425293,
          0.13959503173828125,
          0.13041090965270996,
          0.13610601425170898,
          0.1480121612548828,
          0.15042400360107422,
          0.14074110984802246,
          0.153641939163208,
          0.15269899368286133,
          0.1677381992340088,
          0.17818689346313477,
          0.16804099082946777,
          0.16351580619812012
         ]
        },
        {
         "marker": {
          "color": "rgb(31,119,180)"
         },
         "name": "Optimal",
         "opacity": 0.8,
         "type": "bar",
         "x": [
          0,
          1,
          2,
          3,
          4,
          5,
          6,
          7,
          8,
          9,
          10,
          11,
          12,
          13,
          14,
          15,
          16,
          17,
          18,
          19,
          20,
          21,
          22
         ],
         "y": [
          0.08955597877502441,
          0.060662031173706055,
          0.08399486541748047,
          0.09292793273925781,
          0.1007850170135498,
          0.10857295989990234,
          0.11062097549438477,
          0.11693501472473145,
          0.12369680404663086,
          0.12792181968688965,
          0.13655710220336914,
          0.14440298080444336,
          0.12654900550842285,
          0.1477508544921875,
          0.15088105201721191,
          0.1412949562072754,
          0.1631639003753662,
          0.15650296211242676,
          0.15294909477233887,
          0.16884899139404297,
          0.16727805137634277,
          0.166856050491333,
          null
         ]
        }
       ],
       "layout": {
        "barmode": "group",
        "font": {
         "family": "Times New Roman",
         "size": 16
        },
        "height": 450,
        "legend": {
         "font": {
          "family": "Times New Roman",
          "size": 18
         },
         "orientation": "h",
         "x": 0.5,
         "xanchor": "center",
         "y": 1.02,
         "yanchor": "bottom"
        },
        "margin": {
         "b": 60,
         "l": 80,
         "r": 20,
         "t": 50
        },
        "template": {
         "data": {
          "bar": [
           {
            "error_x": {
             "color": "#2a3f5f"
            },
            "error_y": {
             "color": "#2a3f5f"
            },
            "marker": {
             "line": {
              "color": "#E5ECF6",
              "width": 0.5
             },
             "pattern": {
              "fillmode": "overlay",
              "size": 10,
              "solidity": 0.2
             }
            },
            "type": "bar"
           }
          ],
          "barpolar": [
           {
            "marker": {
             "line": {
              "color": "#E5ECF6",
              "width": 0.5
             },
             "pattern": {
              "fillmode": "overlay",
              "size": 10,
              "solidity": 0.2
             }
            },
            "type": "barpolar"
           }
          ],
          "carpet": [
           {
            "aaxis": {
             "endlinecolor": "#2a3f5f",
             "gridcolor": "white",
             "linecolor": "white",
             "minorgridcolor": "white",
             "startlinecolor": "#2a3f5f"
            },
            "baxis": {
             "endlinecolor": "#2a3f5f",
             "gridcolor": "white",
             "linecolor": "white",
             "minorgridcolor": "white",
             "startlinecolor": "#2a3f5f"
            },
            "type": "carpet"
           }
          ],
          "choropleth": [
           {
            "colorbar": {
             "outlinewidth": 0,
             "ticks": ""
            },
            "type": "choropleth"
           }
          ],
          "contour": [
           {
            "colorbar": {
             "outlinewidth": 0,
             "ticks": ""
            },
            "colorscale": [
             [
              0,
              "#0d0887"
             ],
             [
              0.1111111111111111,
              "#46039f"
             ],
             [
              0.2222222222222222,
              "#7201a8"
             ],
             [
              0.3333333333333333,
              "#9c179e"
             ],
             [
              0.4444444444444444,
              "#bd3786"
             ],
             [
              0.5555555555555556,
              "#d8576b"
             ],
             [
              0.6666666666666666,
              "#ed7953"
             ],
             [
              0.7777777777777778,
              "#fb9f3a"
             ],
             [
              0.8888888888888888,
              "#fdca26"
             ],
             [
              1,
              "#f0f921"
             ]
            ],
            "type": "contour"
           }
          ],
          "contourcarpet": [
           {
            "colorbar": {
             "outlinewidth": 0,
             "ticks": ""
            },
            "type": "contourcarpet"
           }
          ],
          "heatmap": [
           {
            "colorbar": {
             "outlinewidth": 0,
             "ticks": ""
            },
            "colorscale": [
             [
              0,
              "#0d0887"
             ],
             [
              0.1111111111111111,
              "#46039f"
             ],
             [
              0.2222222222222222,
              "#7201a8"
             ],
             [
              0.3333333333333333,
              "#9c179e"
             ],
             [
              0.4444444444444444,
              "#bd3786"
             ],
             [
              0.5555555555555556,
              "#d8576b"
             ],
             [
              0.6666666666666666,
              "#ed7953"
             ],
             [
              0.7777777777777778,
              "#fb9f3a"
             ],
             [
              0.8888888888888888,
              "#fdca26"
             ],
             [
              1,
              "#f0f921"
             ]
            ],
            "type": "heatmap"
           }
          ],
          "heatmapgl": [
           {
            "colorbar": {
             "outlinewidth": 0,
             "ticks": ""
            },
            "colorscale": [
             [
              0,
              "#0d0887"
             ],
             [
              0.1111111111111111,
              "#46039f"
             ],
             [
              0.2222222222222222,
              "#7201a8"
             ],
             [
              0.3333333333333333,
              "#9c179e"
             ],
             [
              0.4444444444444444,
              "#bd3786"
             ],
             [
              0.5555555555555556,
              "#d8576b"
             ],
             [
              0.6666666666666666,
              "#ed7953"
             ],
             [
              0.7777777777777778,
              "#fb9f3a"
             ],
             [
              0.8888888888888888,
              "#fdca26"
             ],
             [
              1,
              "#f0f921"
             ]
            ],
            "type": "heatmapgl"
           }
          ],
          "histogram": [
           {
            "marker": {
             "pattern": {
              "fillmode": "overlay",
              "size": 10,
              "solidity": 0.2
             }
            },
            "type": "histogram"
           }
          ],
          "histogram2d": [
           {
            "colorbar": {
             "outlinewidth": 0,
             "ticks": ""
            },
            "colorscale": [
             [
              0,
              "#0d0887"
             ],
             [
              0.1111111111111111,
              "#46039f"
             ],
             [
              0.2222222222222222,
              "#7201a8"
             ],
             [
              0.3333333333333333,
              "#9c179e"
             ],
             [
              0.4444444444444444,
              "#bd3786"
             ],
             [
              0.5555555555555556,
              "#d8576b"
             ],
             [
              0.6666666666666666,
              "#ed7953"
             ],
             [
              0.7777777777777778,
              "#fb9f3a"
             ],
             [
              0.8888888888888888,
              "#fdca26"
             ],
             [
              1,
              "#f0f921"
             ]
            ],
            "type": "histogram2d"
           }
          ],
          "histogram2dcontour": [
           {
            "colorbar": {
             "outlinewidth": 0,
             "ticks": ""
            },
            "colorscale": [
             [
              0,
              "#0d0887"
             ],
             [
              0.1111111111111111,
              "#46039f"
             ],
             [
              0.2222222222222222,
              "#7201a8"
             ],
             [
              0.3333333333333333,
              "#9c179e"
             ],
             [
              0.4444444444444444,
              "#bd3786"
             ],
             [
              0.5555555555555556,
              "#d8576b"
             ],
             [
              0.6666666666666666,
              "#ed7953"
             ],
             [
              0.7777777777777778,
              "#fb9f3a"
             ],
             [
              0.8888888888888888,
              "#fdca26"
             ],
             [
              1,
              "#f0f921"
             ]
            ],
            "type": "histogram2dcontour"
           }
          ],
          "mesh3d": [
           {
            "colorbar": {
             "outlinewidth": 0,
             "ticks": ""
            },
            "type": "mesh3d"
           }
          ],
          "parcoords": [
           {
            "line": {
             "colorbar": {
              "outlinewidth": 0,
              "ticks": ""
             }
            },
            "type": "parcoords"
           }
          ],
          "pie": [
           {
            "automargin": true,
            "type": "pie"
           }
          ],
          "scatter": [
           {
            "fillpattern": {
             "fillmode": "overlay",
             "size": 10,
             "solidity": 0.2
            },
            "type": "scatter"
           }
          ],
          "scatter3d": [
           {
            "line": {
             "colorbar": {
              "outlinewidth": 0,
              "ticks": ""
             }
            },
            "marker": {
             "colorbar": {
              "outlinewidth": 0,
              "ticks": ""
             }
            },
            "type": "scatter3d"
           }
          ],
          "scattercarpet": [
           {
            "marker": {
             "colorbar": {
              "outlinewidth": 0,
              "ticks": ""
             }
            },
            "type": "scattercarpet"
           }
          ],
          "scattergeo": [
           {
            "marker": {
             "colorbar": {
              "outlinewidth": 0,
              "ticks": ""
             }
            },
            "type": "scattergeo"
           }
          ],
          "scattergl": [
           {
            "marker": {
             "colorbar": {
              "outlinewidth": 0,
              "ticks": ""
             }
            },
            "type": "scattergl"
           }
          ],
          "scattermapbox": [
           {
            "marker": {
             "colorbar": {
              "outlinewidth": 0,
              "ticks": ""
             }
            },
            "type": "scattermapbox"
           }
          ],
          "scatterpolar": [
           {
            "marker": {
             "colorbar": {
              "outlinewidth": 0,
              "ticks": ""
             }
            },
            "type": "scatterpolar"
           }
          ],
          "scatterpolargl": [
           {
            "marker": {
             "colorbar": {
              "outlinewidth": 0,
              "ticks": ""
             }
            },
            "type": "scatterpolargl"
           }
          ],
          "scatterternary": [
           {
            "marker": {
             "colorbar": {
              "outlinewidth": 0,
              "ticks": ""
             }
            },
            "type": "scatterternary"
           }
          ],
          "surface": [
           {
            "colorbar": {
             "outlinewidth": 0,
             "ticks": ""
            },
            "colorscale": [
             [
              0,
              "#0d0887"
             ],
             [
              0.1111111111111111,
              "#46039f"
             ],
             [
              0.2222222222222222,
              "#7201a8"
             ],
             [
              0.3333333333333333,
              "#9c179e"
             ],
             [
              0.4444444444444444,
              "#bd3786"
             ],
             [
              0.5555555555555556,
              "#d8576b"
             ],
             [
              0.6666666666666666,
              "#ed7953"
             ],
             [
              0.7777777777777778,
              "#fb9f3a"
             ],
             [
              0.8888888888888888,
              "#fdca26"
             ],
             [
              1,
              "#f0f921"
             ]
            ],
            "type": "surface"
           }
          ],
          "table": [
           {
            "cells": {
             "fill": {
              "color": "#EBF0F8"
             },
             "line": {
              "color": "white"
             }
            },
            "header": {
             "fill": {
              "color": "#C8D4E3"
             },
             "line": {
              "color": "white"
             }
            },
            "type": "table"
           }
          ]
         },
         "layout": {
          "annotationdefaults": {
           "arrowcolor": "#2a3f5f",
           "arrowhead": 0,
           "arrowwidth": 1
          },
          "autotypenumbers": "strict",
          "coloraxis": {
           "colorbar": {
            "outlinewidth": 0,
            "ticks": ""
           }
          },
          "colorscale": {
           "diverging": [
            [
             0,
             "#8e0152"
            ],
            [
             0.1,
             "#c51b7d"
            ],
            [
             0.2,
             "#de77ae"
            ],
            [
             0.3,
             "#f1b6da"
            ],
            [
             0.4,
             "#fde0ef"
            ],
            [
             0.5,
             "#f7f7f7"
            ],
            [
             0.6,
             "#e6f5d0"
            ],
            [
             0.7,
             "#b8e186"
            ],
            [
             0.8,
             "#7fbc41"
            ],
            [
             0.9,
             "#4d9221"
            ],
            [
             1,
             "#276419"
            ]
           ],
           "sequential": [
            [
             0,
             "#0d0887"
            ],
            [
             0.1111111111111111,
             "#46039f"
            ],
            [
             0.2222222222222222,
             "#7201a8"
            ],
            [
             0.3333333333333333,
             "#9c179e"
            ],
            [
             0.4444444444444444,
             "#bd3786"
            ],
            [
             0.5555555555555556,
             "#d8576b"
            ],
            [
             0.6666666666666666,
             "#ed7953"
            ],
            [
             0.7777777777777778,
             "#fb9f3a"
            ],
            [
             0.8888888888888888,
             "#fdca26"
            ],
            [
             1,
             "#f0f921"
            ]
           ],
           "sequentialminus": [
            [
             0,
             "#0d0887"
            ],
            [
             0.1111111111111111,
             "#46039f"
            ],
            [
             0.2222222222222222,
             "#7201a8"
            ],
            [
             0.3333333333333333,
             "#9c179e"
            ],
            [
             0.4444444444444444,
             "#bd3786"
            ],
            [
             0.5555555555555556,
             "#d8576b"
            ],
            [
             0.6666666666666666,
             "#ed7953"
            ],
            [
             0.7777777777777778,
             "#fb9f3a"
            ],
            [
             0.8888888888888888,
             "#fdca26"
            ],
            [
             1,
             "#f0f921"
            ]
           ]
          },
          "colorway": [
           "#636efa",
           "#EF553B",
           "#00cc96",
           "#ab63fa",
           "#FFA15A",
           "#19d3f3",
           "#FF6692",
           "#B6E880",
           "#FF97FF",
           "#FECB52"
          ],
          "font": {
           "color": "#2a3f5f"
          },
          "geo": {
           "bgcolor": "white",
           "lakecolor": "white",
           "landcolor": "#E5ECF6",
           "showlakes": true,
           "showland": true,
           "subunitcolor": "white"
          },
          "hoverlabel": {
           "align": "left"
          },
          "hovermode": "closest",
          "mapbox": {
           "style": "light"
          },
          "paper_bgcolor": "white",
          "plot_bgcolor": "#E5ECF6",
          "polar": {
           "angularaxis": {
            "gridcolor": "white",
            "linecolor": "white",
            "ticks": ""
           },
           "bgcolor": "#E5ECF6",
           "radialaxis": {
            "gridcolor": "white",
            "linecolor": "white",
            "ticks": ""
           }
          },
          "scene": {
           "xaxis": {
            "backgroundcolor": "#E5ECF6",
            "gridcolor": "white",
            "gridwidth": 2,
            "linecolor": "white",
            "showbackground": true,
            "ticks": "",
            "zerolinecolor": "white"
           },
           "yaxis": {
            "backgroundcolor": "#E5ECF6",
            "gridcolor": "white",
            "gridwidth": 2,
            "linecolor": "white",
            "showbackground": true,
            "ticks": "",
            "zerolinecolor": "white"
           },
           "zaxis": {
            "backgroundcolor": "#E5ECF6",
            "gridcolor": "white",
            "gridwidth": 2,
            "linecolor": "white",
            "showbackground": true,
            "ticks": "",
            "zerolinecolor": "white"
           }
          },
          "shapedefaults": {
           "line": {
            "color": "#2a3f5f"
           }
          },
          "ternary": {
           "aaxis": {
            "gridcolor": "white",
            "linecolor": "white",
            "ticks": ""
           },
           "baxis": {
            "gridcolor": "white",
            "linecolor": "white",
            "ticks": ""
           },
           "bgcolor": "#E5ECF6",
           "caxis": {
            "gridcolor": "white",
            "linecolor": "white",
            "ticks": ""
           }
          },
          "title": {
           "x": 0.05
          },
          "xaxis": {
           "automargin": true,
           "gridcolor": "white",
           "linecolor": "white",
           "ticks": "",
           "title": {
            "standoff": 15
           },
           "zerolinecolor": "white",
           "zerolinewidth": 2
          },
          "yaxis": {
           "automargin": true,
           "gridcolor": "white",
           "linecolor": "white",
           "ticks": "",
           "title": {
            "standoff": 15
           },
           "zerolinecolor": "white",
           "zerolinewidth": 2
          }
         }
        },
        "width": 1100,
        "xaxis": {
         "tickfont": {
          "family": "Times New Roman",
          "size": 18
         },
         "title": {
          "font": {
           "family": "Times New Roman",
           "size": 20
          },
          "text": "Iteration"
         }
        },
        "yaxis": {
         "tickfont": {
          "family": "Times New Roman",
          "size": 18
         },
         "title": {
          "font": {
           "family": "Times New Roman",
           "size": 20
          },
          "text": "Master problem runtime (s)"
         }
        }
       }
      }
     },
     "metadata": {},
     "output_type": "display_data"
    }
   ],
   "source": [
    "import plotly.graph_objects as go\n",
    "\n",
    "# 1) compute n and pad helper\n",
    "n = max(\n",
    "    len(rl_metrics['mp_time']),\n",
    "    len(base_opt_metrics['mp_time']),\n",
    "    len(base_rand_metrics['mp_time']),\n",
    "    len(base_exp_metrics['mp_time'])\n",
    ")\n",
    "def pad_with_nan(lst, length):\n",
    "    arr = np.array(lst, dtype=float).reshape(-1)\n",
    "    return np.concatenate([arr, np.full(max(0, length - arr.size), np.nan)])\n",
    "\n",
    "rl_mp_p        = pad_with_nan(rl_metrics['mp_time'], n)\n",
    "base_opt_mp_p  = pad_with_nan(base_opt_metrics['mp_time'], n)   # “Baseline”\n",
    "base_rand_mp_p = pad_with_nan(base_rand_metrics['mp_time'], n)\n",
    "base_exp_mp_p = pad_with_nan(base_exp_metrics['mp_time'], n)   # “Constant”\n",
    "\n",
    "# 2) your color map\n",
    "color_map = {\n",
    "    'DRL':        'rgb(255,127,14)',\n",
    "    'Random':     'rgb(44,160,44)',\n",
    "    'Exponential':'rgb(148,103,189)',\n",
    "    'Optimal':    'rgb(31,119,180)',\n",
    "}\n",
    "\n",
    "# 3) x‐axis (iterations)\n",
    "iterations = list(range(n))\n",
    "\n",
    "# 4) build figure\n",
    "fig = go.Figure([\n",
    "    go.Bar(name='DRL',\n",
    "           x=iterations, y=rl_mp_p,\n",
    "           marker_color=color_map['DRL'], \n",
    "           opacity=0.8),\n",
    "    go.Bar(name='Random',\n",
    "           x=iterations, y=base_rand_mp_p,\n",
    "           marker_color=color_map['Random'],\n",
    "           opacity=0.8),\n",
    "    go.Bar(name='Exponential',\n",
    "           x=iterations, y=base_exp_mp_p,\n",
    "           marker_color=color_map['Exponential'],\n",
    "           opacity=0.8),\n",
    "    go.Bar(name='Optimal',\n",
    "           x=iterations, y=base_opt_mp_p,\n",
    "           marker_color=color_map['Optimal'],\n",
    "           opacity=0.8)\n",
    "    \n",
    "])\n",
    "\n",
    "fig.update_layout(\n",
    "    barmode='group',\n",
    "    font=dict(\n",
    "        family=\"Times New Roman\",  # global font\n",
    "        size=16\n",
    "    ),\n",
    "    xaxis=dict(\n",
    "        title='Iteration',\n",
    "        title_font=dict(family=\"Times New Roman\", size=20),\n",
    "        tickfont=dict(family=\"Times New Roman\", size=18)\n",
    "    ),\n",
    "    yaxis=dict(\n",
    "        title='Master problem runtime (s)',\n",
    "        title_font=dict(family=\"Times New Roman\", size=20),\n",
    "        tickfont=dict(family=\"Times New Roman\", size=18)\n",
    "    ),\n",
    "    legend=dict(\n",
    "        orientation='h',\n",
    "        yanchor='bottom', y=1.02,\n",
    "        xanchor='center', x=0.5,\n",
    "        font=dict(family=\"Times New Roman\", size=18)\n",
    "    ),\n",
    "    width=1100, height=450,\n",
    "    margin=dict(l=80, r=20, t=50, b=60)\n",
    ")\n",
    "\n",
    "fig.show()"
   ]
  },
  {
   "cell_type": "code",
   "execution_count": 9,
   "metadata": {},
   "outputs": [],
   "source": [
    "# fig.write_image(\"./plots/per_itr_runtime.png\", width=1100, height=450, scale=3)"
   ]
  },
  {
   "cell_type": "code",
   "execution_count": 10,
   "metadata": {},
   "outputs": [
    {
     "data": {
      "application/vnd.plotly.v1+json": {
       "config": {
        "plotlyServerURL": "https://plot.ly"
       },
       "data": [
        {
         "legendgroup": "RL",
         "line": {
          "color": "rgb(255,127,14)"
         },
         "marker": {
          "color": "rgb(255,127,14)",
          "symbol": "star"
         },
         "mode": "lines+markers",
         "name": "RL-iGBD",
         "opacity": 0.8,
         "showlegend": true,
         "type": "scatter",
         "x": [
          0,
          1,
          2,
          3,
          4,
          5,
          6,
          7,
          8,
          9,
          10,
          11,
          12,
          13,
          14,
          15,
          16,
          17,
          18,
          19,
          20,
          21
         ],
         "xaxis": "x",
         "y": [
          0.3,
          0.11557905276593251,
          0.21315472890287315,
          0.17072378312229852,
          0.3,
          0.17072378312229852,
          0.3,
          0.10625279708471547,
          0.2057494311132891,
          0.07649407563955243,
          0.12100616061077835,
          0.12100616061077835,
          0.12100616061077835,
          0.12100616061077835,
          0.10777960263238934,
          0.10777960263238934,
          0.0841053878865124,
          0.08086319389391355,
          0.0788096883680764,
          0.06303461410018067,
          0.03931804587986274,
          0.00972157058486978
         ],
         "yaxis": "y"
        },
        {
         "legendgroup": "Random",
         "line": {
          "color": "rgb(44,160,44)"
         },
         "marker": {
          "color": "rgb(44,160,44)",
          "symbol": "square"
         },
         "mode": "lines+markers",
         "name": "Rand-iGBD",
         "opacity": 0.8,
         "showlegend": true,
         "type": "scatter",
         "x": [
          0,
          1,
          2,
          3,
          4,
          5,
          6,
          7,
          8,
          9,
          10,
          11,
          12,
          13,
          14,
          15,
          16,
          17,
          18,
          19,
          20,
          21,
          22
         ],
         "xaxis": "x",
         "y": [
          0.3,
          0.3,
          0.3,
          0.3,
          0.3,
          0.28280532250363144,
          0.023817845826623243,
          0.06345817297554408,
          0.0738678684714681,
          0.0738678684714681,
          0.08427756396739212,
          0.010177229870444802,
          0.038996491644624334,
          0.0693936849603238,
          0.06179438663139894,
          0.0693936849603238,
          0.03139719331569947,
          0.013824581545903405,
          0.001,
          0.007936406436338726,
          0.012265002365956526,
          0.001,
          0.0010779386687333908
         ],
         "yaxis": "y"
        },
        {
         "legendgroup": "Exponential",
         "line": {
          "color": "rgb(148,103,189)"
         },
         "marker": {
          "color": "rgb(148,103,189)",
          "symbol": "diamond"
         },
         "mode": "lines+markers",
         "name": "Exp-iGBD",
         "opacity": 0.8,
         "showlegend": true,
         "type": "scatter",
         "x": [
          0,
          1,
          2,
          3,
          4,
          5,
          6,
          7,
          8,
          9,
          10,
          11,
          12,
          13,
          14,
          15,
          16,
          17,
          18,
          19,
          20,
          21,
          22
         ],
         "xaxis": "x",
         "y": [
          0.3,
          0.2399999997594555,
          0.19199999063183917,
          0.15360001307926316,
          0.12288000459094588,
          0.09830399897478521,
          0.07864320256753023,
          0.06291455904732243,
          0.050331647119241936,
          0.04026531760050072,
          0.03221225473624481,
          0.02576980380144029,
          0.020615842934026424,
          0.016492674683013395,
          0.013194139715316232,
          0.010555311267812149,
          0.00844424937800145,
          0.006755399179559026,
          0.005404319085373526,
          0.004323455847399558,
          0.0034587645126244676,
          0.0027670114778634352,
          0.002213609478790337
         ],
         "yaxis": "y"
        },
        {
         "legendgroup": "Optimal",
         "line": {
          "color": "rgb(31,119,180)"
         },
         "marker": {
          "color": "rgb(31,119,180)",
          "symbol": "circle"
         },
         "mode": "lines+markers",
         "name": "GBD",
         "opacity": 0.8,
         "showlegend": true,
         "type": "scatter",
         "x": [
          0,
          1,
          2,
          3,
          4,
          5,
          6,
          7,
          8,
          9,
          10,
          11,
          12,
          13,
          14,
          15,
          16,
          17,
          18,
          19,
          20,
          21
         ],
         "xaxis": "x",
         "y": [
          0.001,
          0.001,
          0.001,
          0.001,
          0.001,
          0.001,
          0.001,
          0.001,
          0.001,
          0.001,
          0.001,
          0.001,
          0.001,
          0.001,
          0.001,
          0.001,
          0.001,
          0.001,
          0.001,
          0.001,
          0.001,
          0.001
         ],
         "yaxis": "y"
        },
        {
         "legendgroup": "RL",
         "line": {
          "color": "rgb(255,127,14)"
         },
         "marker": {
          "color": "rgb(255,127,14)",
          "symbol": "star"
         },
         "mode": "lines+markers",
         "name": "RL-iGBD",
         "opacity": 0.8,
         "showlegend": false,
         "type": "scatter",
         "x": [
          0,
          1,
          2,
          3,
          4,
          5,
          6,
          7,
          8,
          9,
          10,
          11,
          12,
          13,
          14,
          15,
          16,
          17,
          18,
          19,
          20,
          21
         ],
         "xaxis": "x2",
         "y": [
          1.1467905581257312,
          0.42530943860058307,
          0.42530943860058307,
          0.42530943860058307,
          0.42530943860058307,
          0.36998520631337145,
          0.26413200590343544,
          0.25693679257635527,
          0.18973518660588973,
          0.15100769878019998,
          0.15100769878019998,
          0.15100769878019998,
          0.15100769878019998,
          0.13447449418699578,
          0.13447449418699578,
          0.10488173567263716,
          0.10082899338833752,
          0.09826211058297306,
          0.07854326387704019,
          0.04889756368304788,
          0.030071896457966915,
          0.0003703838145584885
         ],
         "yaxis": "y2"
        },
        {
         "legendgroup": "Random",
         "line": {
          "color": "rgb(44,160,44)"
         },
         "marker": {
          "color": "rgb(44,160,44)",
          "symbol": "square"
         },
         "mode": "lines+markers",
         "name": "Rand-iGBD",
         "opacity": 0.8,
         "showlegend": false,
         "type": "scatter",
         "x": [
          0,
          1,
          2,
          3,
          4,
          5,
          6,
          7,
          8,
          9,
          10,
          11,
          12,
          13,
          14,
          15,
          16,
          17,
          18,
          19,
          20,
          21,
          22
         ],
         "xaxis": "x2",
         "y": [
          1.1467905581257312,
          0.8818626081698087,
          0.40731720246574993,
          0.40731720246574993,
          0.28280531133136155,
          0.2291784579665143,
          0.10509695000111655,
          0.10509695000111655,
          0.10509695000111655,
          0.10509695000111655,
          0.0927723004659752,
          0.07699297834221636,
          0.07699297834221636,
          0.07699297834221636,
          0.07699297834221636,
          0.07699297834221636,
          0.04374860253735423,
          0.03261682061144324,
          0.02412135701286876,
          0.0235299986800636,
          0.004532787688167254,
          0.001389699495759976,
          0.0003436846670840414
         ],
         "yaxis": "y2"
        },
        {
         "legendgroup": "Exponential",
         "line": {
          "color": "rgb(148,103,189)"
         },
         "marker": {
          "color": "rgb(148,103,189)",
          "symbol": "diamond"
         },
         "mode": "lines+markers",
         "name": "Exp-iGBD",
         "opacity": 0.8,
         "showlegend": false,
         "type": "scatter",
         "x": [
          0,
          1,
          2,
          3,
          4,
          5,
          6,
          7,
          8,
          9,
          10,
          11,
          12,
          13,
          14,
          15,
          16,
          17,
          18,
          19,
          20,
          21,
          22
         ],
         "xaxis": "x2",
         "y": [
          1.1467905581257312,
          0.8818626081698087,
          0.4018440695662105,
          0.391833421233328,
          0.269503633373858,
          0.24897931476051277,
          0.23517086256896572,
          0.2109563115813342,
          0.1788194604357766,
          0.13039083619020475,
          0.10477045434532417,
          0.0807790844214458,
          0.07601244248963342,
          0.03951207248727382,
          0.03820507815321856,
          0.03615986737273663,
          0.01454630399452495,
          0.01299683775985943,
          0.0049688468595915644,
          0.003988006811980038,
          0.0030919300900377413,
          0.0015817846493987628,
          0.0003698269913095078
         ],
         "yaxis": "y2"
        },
        {
         "legendgroup": "Optimal",
         "line": {
          "color": "rgb(31,119,180)"
         },
         "marker": {
          "color": "rgb(31,119,180)",
          "symbol": "circle"
         },
         "mode": "lines+markers",
         "name": "GBD",
         "opacity": 0.8,
         "showlegend": false,
         "type": "scatter",
         "x": [
          0,
          1,
          2,
          3,
          4,
          5,
          6,
          7,
          8,
          9,
          10,
          11,
          12,
          13,
          14,
          15,
          16,
          17,
          18,
          19,
          20,
          21
         ],
         "xaxis": "x2",
         "y": [
          0.4813094016656101,
          0.37150509714553037,
          0.3714364408521983,
          0.3351731393954096,
          0.2841178789453686,
          0.2635693392508589,
          0.2610866864879229,
          0.2559054775689082,
          0.25560905157683117,
          0.11505006857712614,
          0.11437889899099843,
          0.0942153196371789,
          0.06568484398281811,
          0.06426993707109657,
          0.062009187892196796,
          0.014553705627835879,
          0.013978157439888514,
          0.013870884955195582,
          0.004968846859575111,
          0.0036371123069055674,
          0.001581784649291921,
          0.00036982699129391156
         ],
         "yaxis": "y2"
        },
        {
         "legendgroup": "RL",
         "line": {
          "color": "rgb(255,127,14)"
         },
         "marker": {
          "color": "rgb(255,127,14)",
          "symbol": "star"
         },
         "mode": "lines+markers",
         "name": "RL-iGBD",
         "opacity": 0.9,
         "showlegend": false,
         "type": "scatter",
         "x": [
          0,
          1,
          2,
          3,
          4,
          5,
          6,
          7,
          8,
          9,
          10,
          11,
          12,
          13,
          14,
          15,
          16,
          17,
          18,
          19,
          20,
          21
         ],
         "xaxis": "x3",
         "y": [
          0.03157496452331543,
          0.06557893753051758,
          0.09189772605895996,
          0.11857175827026367,
          0.1465916633605957,
          0.17552661895751953,
          0.20667576789855957,
          0.26395082473754883,
          0.300520658493042,
          0.3907318115234375,
          0.44863080978393555,
          0.5128457546234131,
          0.5798318386077881,
          0.6510488986968994,
          0.7392139434814453,
          0.8050820827484131,
          0.881953239440918,
          0.9558241367340088,
          1.048267126083374,
          1.160182237625122,
          1.2860841751098633,
          1.4549310207366943
         ],
         "yaxis": "y3"
        },
        {
         "legendgroup": "Random",
         "line": {
          "color": "rgb(44,160,44)"
         },
         "marker": {
          "color": "rgb(44,160,44)",
          "symbol": "square"
         },
         "mode": "lines+markers",
         "name": "Rand-iGBD",
         "opacity": 0.9,
         "showlegend": false,
         "type": "scatter",
         "x": [
          0,
          1,
          2,
          3,
          4,
          5,
          6,
          7,
          8,
          9,
          10,
          11,
          12,
          13,
          14,
          15,
          16,
          17,
          18,
          19,
          20,
          21,
          22
         ],
         "xaxis": "x3",
         "y": [
          0.022302865982055664,
          0.04656577110290527,
          0.07189488410949707,
          0.0986330509185791,
          0.13124489784240723,
          0.16026067733764648,
          0.2697105407714844,
          0.36429572105407715,
          0.4595458507537842,
          0.5515508651733398,
          0.6386759281158447,
          0.7793369293212891,
          0.8685388565063477,
          0.957913875579834,
          1.0405607223510742,
          1.119642734527588,
          1.2327306270599365,
          1.382509708404541,
          1.539921760559082,
          1.691394567489624,
          1.8554644584655762,
          2.0195374488830566,
          2.1872613430023193
         ],
         "yaxis": "y3"
        },
        {
         "legendgroup": "Exponential",
         "line": {
          "color": "rgb(148,103,189)"
         },
         "marker": {
          "color": "rgb(148,103,189)",
          "symbol": "diamond"
         },
         "mode": "lines+markers",
         "name": "Exp-iGBD",
         "opacity": 0.9,
         "showlegend": false,
         "type": "scatter",
         "x": [
          0,
          1,
          2,
          3,
          4,
          5,
          6,
          7,
          8,
          9,
          10,
          11,
          12,
          13,
          14,
          15,
          16,
          17,
          18,
          19,
          20,
          21,
          22
         ],
         "xaxis": "x3",
         "y": [
          0.021898984909057617,
          0.04565787315368652,
          0.07210993766784668,
          0.10723185539245605,
          0.13446998596191406,
          0.1929640769958496,
          0.2615370750427246,
          0.37377309799194336,
          0.49485015869140625,
          0.623427152633667,
          0.7526431083679199,
          0.8922381401062012,
          1.0226490497589111,
          1.1587550640106201,
          1.306767225265503,
          1.4571912288665771,
          1.5979323387145996,
          1.7515742778778076,
          1.904273271560669,
          2.0720114707946777,
          2.2501983642578125,
          2.4182393550872803,
          2.5817551612854004
         ],
         "yaxis": "y3"
        },
        {
         "legendgroup": "Optimal",
         "line": {
          "color": "rgb(31,119,180)"
         },
         "marker": {
          "color": "rgb(31,119,180)",
          "symbol": "circle"
         },
         "mode": "lines+markers",
         "name": "GBD",
         "opacity": 0.9,
         "showlegend": false,
         "type": "scatter",
         "x": [
          0,
          1,
          2,
          3,
          4,
          5,
          6,
          7,
          8,
          9,
          10,
          11,
          12,
          13,
          14,
          15,
          16,
          17,
          18,
          19,
          20,
          21
         ],
         "xaxis": "x3",
         "y": [
          0.08955597877502441,
          0.15021800994873047,
          0.23421287536621094,
          0.32714080810546875,
          0.42792582511901855,
          0.5364987850189209,
          0.6471197605133057,
          0.7640547752380371,
          0.887751579284668,
          1.0156733989715576,
          1.1522305011749268,
          1.2966334819793701,
          1.423182487487793,
          1.5709333419799805,
          1.7218143939971924,
          1.8631093502044678,
          2.026273250579834,
          2.1827762126922607,
          2.3357253074645996,
          2.5045742988586426,
          2.6718523502349854,
          2.8387084007263184
         ],
         "yaxis": "y3"
        }
       ],
       "layout": {
        "font": {
         "color": "black",
         "family": "Times New Roman",
         "size": 16
        },
        "height": 1000,
        "legend": {
         "bordercolor": "black",
         "borderwidth": 1,
         "orientation": "v",
         "x": 0.97,
         "xanchor": "right",
         "y": 0.992,
         "yanchor": "top"
        },
        "margin": {
         "b": 10,
         "l": 60,
         "r": 10,
         "t": 10
        },
        "paper_bgcolor": "white",
        "plot_bgcolor": "white",
        "template": {
         "data": {
          "bar": [
           {
            "error_x": {
             "color": "#2a3f5f"
            },
            "error_y": {
             "color": "#2a3f5f"
            },
            "marker": {
             "line": {
              "color": "#E5ECF6",
              "width": 0.5
             },
             "pattern": {
              "fillmode": "overlay",
              "size": 10,
              "solidity": 0.2
             }
            },
            "type": "bar"
           }
          ],
          "barpolar": [
           {
            "marker": {
             "line": {
              "color": "#E5ECF6",
              "width": 0.5
             },
             "pattern": {
              "fillmode": "overlay",
              "size": 10,
              "solidity": 0.2
             }
            },
            "type": "barpolar"
           }
          ],
          "carpet": [
           {
            "aaxis": {
             "endlinecolor": "#2a3f5f",
             "gridcolor": "white",
             "linecolor": "white",
             "minorgridcolor": "white",
             "startlinecolor": "#2a3f5f"
            },
            "baxis": {
             "endlinecolor": "#2a3f5f",
             "gridcolor": "white",
             "linecolor": "white",
             "minorgridcolor": "white",
             "startlinecolor": "#2a3f5f"
            },
            "type": "carpet"
           }
          ],
          "choropleth": [
           {
            "colorbar": {
             "outlinewidth": 0,
             "ticks": ""
            },
            "type": "choropleth"
           }
          ],
          "contour": [
           {
            "colorbar": {
             "outlinewidth": 0,
             "ticks": ""
            },
            "colorscale": [
             [
              0,
              "#0d0887"
             ],
             [
              0.1111111111111111,
              "#46039f"
             ],
             [
              0.2222222222222222,
              "#7201a8"
             ],
             [
              0.3333333333333333,
              "#9c179e"
             ],
             [
              0.4444444444444444,
              "#bd3786"
             ],
             [
              0.5555555555555556,
              "#d8576b"
             ],
             [
              0.6666666666666666,
              "#ed7953"
             ],
             [
              0.7777777777777778,
              "#fb9f3a"
             ],
             [
              0.8888888888888888,
              "#fdca26"
             ],
             [
              1,
              "#f0f921"
             ]
            ],
            "type": "contour"
           }
          ],
          "contourcarpet": [
           {
            "colorbar": {
             "outlinewidth": 0,
             "ticks": ""
            },
            "type": "contourcarpet"
           }
          ],
          "heatmap": [
           {
            "colorbar": {
             "outlinewidth": 0,
             "ticks": ""
            },
            "colorscale": [
             [
              0,
              "#0d0887"
             ],
             [
              0.1111111111111111,
              "#46039f"
             ],
             [
              0.2222222222222222,
              "#7201a8"
             ],
             [
              0.3333333333333333,
              "#9c179e"
             ],
             [
              0.4444444444444444,
              "#bd3786"
             ],
             [
              0.5555555555555556,
              "#d8576b"
             ],
             [
              0.6666666666666666,
              "#ed7953"
             ],
             [
              0.7777777777777778,
              "#fb9f3a"
             ],
             [
              0.8888888888888888,
              "#fdca26"
             ],
             [
              1,
              "#f0f921"
             ]
            ],
            "type": "heatmap"
           }
          ],
          "heatmapgl": [
           {
            "colorbar": {
             "outlinewidth": 0,
             "ticks": ""
            },
            "colorscale": [
             [
              0,
              "#0d0887"
             ],
             [
              0.1111111111111111,
              "#46039f"
             ],
             [
              0.2222222222222222,
              "#7201a8"
             ],
             [
              0.3333333333333333,
              "#9c179e"
             ],
             [
              0.4444444444444444,
              "#bd3786"
             ],
             [
              0.5555555555555556,
              "#d8576b"
             ],
             [
              0.6666666666666666,
              "#ed7953"
             ],
             [
              0.7777777777777778,
              "#fb9f3a"
             ],
             [
              0.8888888888888888,
              "#fdca26"
             ],
             [
              1,
              "#f0f921"
             ]
            ],
            "type": "heatmapgl"
           }
          ],
          "histogram": [
           {
            "marker": {
             "pattern": {
              "fillmode": "overlay",
              "size": 10,
              "solidity": 0.2
             }
            },
            "type": "histogram"
           }
          ],
          "histogram2d": [
           {
            "colorbar": {
             "outlinewidth": 0,
             "ticks": ""
            },
            "colorscale": [
             [
              0,
              "#0d0887"
             ],
             [
              0.1111111111111111,
              "#46039f"
             ],
             [
              0.2222222222222222,
              "#7201a8"
             ],
             [
              0.3333333333333333,
              "#9c179e"
             ],
             [
              0.4444444444444444,
              "#bd3786"
             ],
             [
              0.5555555555555556,
              "#d8576b"
             ],
             [
              0.6666666666666666,
              "#ed7953"
             ],
             [
              0.7777777777777778,
              "#fb9f3a"
             ],
             [
              0.8888888888888888,
              "#fdca26"
             ],
             [
              1,
              "#f0f921"
             ]
            ],
            "type": "histogram2d"
           }
          ],
          "histogram2dcontour": [
           {
            "colorbar": {
             "outlinewidth": 0,
             "ticks": ""
            },
            "colorscale": [
             [
              0,
              "#0d0887"
             ],
             [
              0.1111111111111111,
              "#46039f"
             ],
             [
              0.2222222222222222,
              "#7201a8"
             ],
             [
              0.3333333333333333,
              "#9c179e"
             ],
             [
              0.4444444444444444,
              "#bd3786"
             ],
             [
              0.5555555555555556,
              "#d8576b"
             ],
             [
              0.6666666666666666,
              "#ed7953"
             ],
             [
              0.7777777777777778,
              "#fb9f3a"
             ],
             [
              0.8888888888888888,
              "#fdca26"
             ],
             [
              1,
              "#f0f921"
             ]
            ],
            "type": "histogram2dcontour"
           }
          ],
          "mesh3d": [
           {
            "colorbar": {
             "outlinewidth": 0,
             "ticks": ""
            },
            "type": "mesh3d"
           }
          ],
          "parcoords": [
           {
            "line": {
             "colorbar": {
              "outlinewidth": 0,
              "ticks": ""
             }
            },
            "type": "parcoords"
           }
          ],
          "pie": [
           {
            "automargin": true,
            "type": "pie"
           }
          ],
          "scatter": [
           {
            "fillpattern": {
             "fillmode": "overlay",
             "size": 10,
             "solidity": 0.2
            },
            "type": "scatter"
           }
          ],
          "scatter3d": [
           {
            "line": {
             "colorbar": {
              "outlinewidth": 0,
              "ticks": ""
             }
            },
            "marker": {
             "colorbar": {
              "outlinewidth": 0,
              "ticks": ""
             }
            },
            "type": "scatter3d"
           }
          ],
          "scattercarpet": [
           {
            "marker": {
             "colorbar": {
              "outlinewidth": 0,
              "ticks": ""
             }
            },
            "type": "scattercarpet"
           }
          ],
          "scattergeo": [
           {
            "marker": {
             "colorbar": {
              "outlinewidth": 0,
              "ticks": ""
             }
            },
            "type": "scattergeo"
           }
          ],
          "scattergl": [
           {
            "marker": {
             "colorbar": {
              "outlinewidth": 0,
              "ticks": ""
             }
            },
            "type": "scattergl"
           }
          ],
          "scattermapbox": [
           {
            "marker": {
             "colorbar": {
              "outlinewidth": 0,
              "ticks": ""
             }
            },
            "type": "scattermapbox"
           }
          ],
          "scatterpolar": [
           {
            "marker": {
             "colorbar": {
              "outlinewidth": 0,
              "ticks": ""
             }
            },
            "type": "scatterpolar"
           }
          ],
          "scatterpolargl": [
           {
            "marker": {
             "colorbar": {
              "outlinewidth": 0,
              "ticks": ""
             }
            },
            "type": "scatterpolargl"
           }
          ],
          "scatterternary": [
           {
            "marker": {
             "colorbar": {
              "outlinewidth": 0,
              "ticks": ""
             }
            },
            "type": "scatterternary"
           }
          ],
          "surface": [
           {
            "colorbar": {
             "outlinewidth": 0,
             "ticks": ""
            },
            "colorscale": [
             [
              0,
              "#0d0887"
             ],
             [
              0.1111111111111111,
              "#46039f"
             ],
             [
              0.2222222222222222,
              "#7201a8"
             ],
             [
              0.3333333333333333,
              "#9c179e"
             ],
             [
              0.4444444444444444,
              "#bd3786"
             ],
             [
              0.5555555555555556,
              "#d8576b"
             ],
             [
              0.6666666666666666,
              "#ed7953"
             ],
             [
              0.7777777777777778,
              "#fb9f3a"
             ],
             [
              0.8888888888888888,
              "#fdca26"
             ],
             [
              1,
              "#f0f921"
             ]
            ],
            "type": "surface"
           }
          ],
          "table": [
           {
            "cells": {
             "fill": {
              "color": "#EBF0F8"
             },
             "line": {
              "color": "white"
             }
            },
            "header": {
             "fill": {
              "color": "#C8D4E3"
             },
             "line": {
              "color": "white"
             }
            },
            "type": "table"
           }
          ]
         },
         "layout": {
          "annotationdefaults": {
           "arrowcolor": "#2a3f5f",
           "arrowhead": 0,
           "arrowwidth": 1
          },
          "autotypenumbers": "strict",
          "coloraxis": {
           "colorbar": {
            "outlinewidth": 0,
            "ticks": ""
           }
          },
          "colorscale": {
           "diverging": [
            [
             0,
             "#8e0152"
            ],
            [
             0.1,
             "#c51b7d"
            ],
            [
             0.2,
             "#de77ae"
            ],
            [
             0.3,
             "#f1b6da"
            ],
            [
             0.4,
             "#fde0ef"
            ],
            [
             0.5,
             "#f7f7f7"
            ],
            [
             0.6,
             "#e6f5d0"
            ],
            [
             0.7,
             "#b8e186"
            ],
            [
             0.8,
             "#7fbc41"
            ],
            [
             0.9,
             "#4d9221"
            ],
            [
             1,
             "#276419"
            ]
           ],
           "sequential": [
            [
             0,
             "#0d0887"
            ],
            [
             0.1111111111111111,
             "#46039f"
            ],
            [
             0.2222222222222222,
             "#7201a8"
            ],
            [
             0.3333333333333333,
             "#9c179e"
            ],
            [
             0.4444444444444444,
             "#bd3786"
            ],
            [
             0.5555555555555556,
             "#d8576b"
            ],
            [
             0.6666666666666666,
             "#ed7953"
            ],
            [
             0.7777777777777778,
             "#fb9f3a"
            ],
            [
             0.8888888888888888,
             "#fdca26"
            ],
            [
             1,
             "#f0f921"
            ]
           ],
           "sequentialminus": [
            [
             0,
             "#0d0887"
            ],
            [
             0.1111111111111111,
             "#46039f"
            ],
            [
             0.2222222222222222,
             "#7201a8"
            ],
            [
             0.3333333333333333,
             "#9c179e"
            ],
            [
             0.4444444444444444,
             "#bd3786"
            ],
            [
             0.5555555555555556,
             "#d8576b"
            ],
            [
             0.6666666666666666,
             "#ed7953"
            ],
            [
             0.7777777777777778,
             "#fb9f3a"
            ],
            [
             0.8888888888888888,
             "#fdca26"
            ],
            [
             1,
             "#f0f921"
            ]
           ]
          },
          "colorway": [
           "#636efa",
           "#EF553B",
           "#00cc96",
           "#ab63fa",
           "#FFA15A",
           "#19d3f3",
           "#FF6692",
           "#B6E880",
           "#FF97FF",
           "#FECB52"
          ],
          "font": {
           "color": "#2a3f5f"
          },
          "geo": {
           "bgcolor": "white",
           "lakecolor": "white",
           "landcolor": "#E5ECF6",
           "showlakes": true,
           "showland": true,
           "subunitcolor": "white"
          },
          "hoverlabel": {
           "align": "left"
          },
          "hovermode": "closest",
          "mapbox": {
           "style": "light"
          },
          "paper_bgcolor": "white",
          "plot_bgcolor": "#E5ECF6",
          "polar": {
           "angularaxis": {
            "gridcolor": "white",
            "linecolor": "white",
            "ticks": ""
           },
           "bgcolor": "#E5ECF6",
           "radialaxis": {
            "gridcolor": "white",
            "linecolor": "white",
            "ticks": ""
           }
          },
          "scene": {
           "xaxis": {
            "backgroundcolor": "#E5ECF6",
            "gridcolor": "white",
            "gridwidth": 2,
            "linecolor": "white",
            "showbackground": true,
            "ticks": "",
            "zerolinecolor": "white"
           },
           "yaxis": {
            "backgroundcolor": "#E5ECF6",
            "gridcolor": "white",
            "gridwidth": 2,
            "linecolor": "white",
            "showbackground": true,
            "ticks": "",
            "zerolinecolor": "white"
           },
           "zaxis": {
            "backgroundcolor": "#E5ECF6",
            "gridcolor": "white",
            "gridwidth": 2,
            "linecolor": "white",
            "showbackground": true,
            "ticks": "",
            "zerolinecolor": "white"
           }
          },
          "shapedefaults": {
           "line": {
            "color": "#2a3f5f"
           }
          },
          "ternary": {
           "aaxis": {
            "gridcolor": "white",
            "linecolor": "white",
            "ticks": ""
           },
           "baxis": {
            "gridcolor": "white",
            "linecolor": "white",
            "ticks": ""
           },
           "bgcolor": "#E5ECF6",
           "caxis": {
            "gridcolor": "white",
            "linecolor": "white",
            "ticks": ""
           }
          },
          "title": {
           "x": 0.05
          },
          "xaxis": {
           "automargin": true,
           "gridcolor": "white",
           "linecolor": "white",
           "ticks": "",
           "title": {
            "standoff": 15
           },
           "zerolinecolor": "white",
           "zerolinewidth": 2
          },
          "yaxis": {
           "automargin": true,
           "gridcolor": "white",
           "linecolor": "white",
           "ticks": "",
           "title": {
            "standoff": 15
           },
           "zerolinecolor": "white",
           "zerolinewidth": 2
          }
         }
        },
        "width": 500,
        "xaxis": {
         "anchor": "y",
         "domain": [
          0,
          1
         ],
         "gridcolor": "lightgrey",
         "gridwidth": 1,
         "linecolor": "black",
         "matches": "x3",
         "mirror": true,
         "showgrid": true,
         "showline": true,
         "showticklabels": true,
         "tickfont": {
          "family": "Times New Roman",
          "size": 16
         },
         "ticks": "outside",
         "tickvals": [
          0,
          4,
          8,
          12,
          16,
          20,
          24
         ],
         "title": {
          "font": {
           "family": "Times New Roman",
           "size": 18
          },
          "standoff": 5,
          "text": "Iteration"
         },
         "zeroline": false
        },
        "xaxis2": {
         "anchor": "y2",
         "domain": [
          0,
          1
         ],
         "gridcolor": "lightgrey",
         "gridwidth": 1,
         "linecolor": "black",
         "matches": "x3",
         "mirror": true,
         "showgrid": true,
         "showline": true,
         "showticklabels": true,
         "tickfont": {
          "family": "Times New Roman",
          "size": 16
         },
         "ticks": "outside",
         "tickvals": [
          0,
          4,
          8,
          12,
          16,
          20,
          24
         ],
         "title": {
          "font": {
           "family": "Times New Roman",
           "size": 18
          },
          "standoff": 5,
          "text": "Iteration"
         },
         "zeroline": false
        },
        "xaxis3": {
         "anchor": "y3",
         "domain": [
          0,
          1
         ],
         "gridcolor": "lightgrey",
         "gridwidth": 1,
         "linecolor": "black",
         "mirror": true,
         "showgrid": true,
         "showline": true,
         "showticklabels": true,
         "tickfont": {
          "family": "Times New Roman",
          "size": 16
         },
         "ticks": "outside",
         "tickvals": [
          0,
          4,
          8,
          12,
          16,
          20,
          24
         ],
         "title": {
          "font": {
           "family": "Times New Roman",
           "size": 18
          },
          "standoff": 5,
          "text": "Iteration"
         },
         "zeroline": false
        },
        "yaxis": {
         "anchor": "x",
         "domain": [
          0.7266666666666668,
          1
         ],
         "gridcolor": "lightgrey",
         "gridwidth": 1,
         "linecolor": "black",
         "mirror": true,
         "showgrid": true,
         "showline": true,
         "tickfont": {
          "family": "Times New Roman",
          "size": 16
         },
         "tickformat": ".2f",
         "ticks": "outside",
         "title": {
          "font": {
           "family": "Times New Roman",
           "size": 18
          },
          "text": "Master gap tolerance"
         },
         "zeroline": false
        },
        "yaxis2": {
         "anchor": "x2",
         "domain": [
          0.3633333333333334,
          0.6366666666666667
         ],
         "exponentformat": "power",
         "gridcolor": "lightgrey",
         "gridwidth": 1,
         "linecolor": "black",
         "mirror": true,
         "nticks": 5,
         "showexponent": "all",
         "showgrid": true,
         "showline": true,
         "tickfont": {
          "family": "Times New Roman",
          "size": 16
         },
         "tickmode": "auto",
         "ticks": "outside",
         "title": {
          "font": {
           "family": "Times New Roman",
           "size": 18
          },
          "text": "Benders gap"
         },
         "type": "log",
         "zeroline": false
        },
        "yaxis3": {
         "anchor": "x3",
         "domain": [
          0,
          0.2733333333333334
         ],
         "gridcolor": "lightgrey",
         "gridwidth": 1,
         "linecolor": "black",
         "mirror": true,
         "showgrid": true,
         "showline": true,
         "tickfont": {
          "family": "Times New Roman",
          "size": 16
         },
         "tickformat": ".2f",
         "ticks": "outside",
         "title": {
          "font": {
           "family": "Times New Roman",
           "size": 18
          },
          "text": "Cumulative master runtime (s)"
         },
         "zeroline": false
        }
       }
      }
     },
     "metadata": {},
     "output_type": "display_data"
    }
   ],
   "source": [
    "from plotly.subplots import make_subplots\n",
    "import plotly.graph_objects as go\n",
    "\n",
    "# --- your existing color_map and metrics dicts must be defined above ---\n",
    "color_map = {\n",
    "    'RL':        'rgb(255,127,14)',\n",
    "    'Random':     'rgb(44,160,44)',\n",
    "    'Exponential':'rgb(148,103,189)',\n",
    "    'Optimal':    'rgb(31,119,180)',\n",
    "}\n",
    "\n",
    "marker_map = {\n",
    "    'RL':          'star',\n",
    "    'Random':      'square',\n",
    "    'Exponential': 'diamond',\n",
    "    'Optimal':     'circle'\n",
    "}\n",
    "\n",
    "\n",
    "label_map = {\n",
    "    'RL':          'RL-iGBD',\n",
    "    'Random':      'Rand-iGBD',\n",
    "    'Exponential': 'Exp-iGBD',\n",
    "    'Optimal':     'GBD'\n",
    "}\n",
    "\n",
    "# --- compute cumulative master‐problem runtimes ---\n",
    "cum_mp_rl    = np.cumsum(rl_metrics   ['mp_time'])\n",
    "cum_mp_opt   = np.cumsum(base_opt_metrics['mp_time'])   # Baseline\n",
    "cum_mp_exp   = np.cumsum(base_exp_metrics['mp_time'])   # Constant\n",
    "cum_mp_rand  = np.cumsum(base_rand_metrics['mp_time'])  # Random\n",
    "\n",
    "# --- make 3×1 subplots, sharing the x‐axis ---\n",
    "fig = make_subplots(\n",
    "    rows=3, cols=1,\n",
    "    shared_xaxes=True,\n",
    "    vertical_spacing=0.09,\n",
    ")\n",
    "\n",
    "# helper to add your original two panels\n",
    "def add_policy_trace(policy, metrics, row, y_key, log_scale=False, show_legend=False):\n",
    "    fig.add_trace(\n",
    "        go.Scatter(\n",
    "            x=list(range(len(metrics[y_key]))),\n",
    "            y=metrics[y_key],\n",
    "            mode=\"lines+markers\",\n",
    "            name=label_map[policy],\n",
    "            legendgroup=policy,\n",
    "            showlegend=show_legend,\n",
    "            line_color=color_map[policy],\n",
    "            marker_color=color_map[policy],\n",
    "            marker_symbol=marker_map[policy],\n",
    "            opacity=0.8\n",
    "        ),\n",
    "        row=row, col=1\n",
    "    )\n",
    "    if log_scale:\n",
    "        fig.update_yaxes(type=\"log\", row=row, col=1)\n",
    "\n",
    "# Row 1: Master gap tolerance (with legend)\n",
    "for policy, metrics in [\n",
    "    (\"RL\",        rl_metrics),\n",
    "    (\"Random\",     base_rand_metrics),\n",
    "    (\"Exponential\",base_exp_metrics),\n",
    "    (\"Optimal\",    base_opt_metrics),\n",
    "]:\n",
    "    add_policy_trace(policy, metrics, row=1, y_key=\"master_gap_tol\", show_legend=True)\n",
    "\n",
    "# Row 2: Benders (true) gap, log‐scale (no legend)\n",
    "for policy, metrics in [\n",
    "    (\"RL\",        rl_metrics),\n",
    "    (\"Random\",     base_rand_metrics),\n",
    "    (\"Exponential\",base_exp_metrics),\n",
    "    (\"Optimal\",    base_opt_metrics),\n",
    "]:\n",
    "    add_policy_trace(policy, metrics, row=2, y_key=\"true_gap\", log_scale=True, show_legend=False)\n",
    "\n",
    "# Row 3: Cumulative master‐problem runtime (no legend)\n",
    "for policy, cum_data in [\n",
    "    (\"RL\",       cum_mp_rl),\n",
    "    (\"Random\",    cum_mp_rand),\n",
    "    (\"Exponential\",  cum_mp_exp),\n",
    "    (\"Optimal\",  cum_mp_opt),\n",
    "\n",
    "]:\n",
    "    # note: map “Baseline”→Optimal color, “Constant”→Exponential color\n",
    "    color_key = {\n",
    "      \"RL\": \"RL\",\n",
    "      \"Random\": \"Random\",\n",
    "      \"Exponential\": \"Exponential\",\n",
    "      \"Optimal\": \"Optimal\"\n",
    "    }[policy]\n",
    "    fig.add_trace(\n",
    "        go.Scatter(\n",
    "            x=list(range(0, len(cum_data))),\n",
    "            y=cum_data,\n",
    "            mode=\"lines+markers\",\n",
    "            name=label_map[policy],\n",
    "            legendgroup=policy,\n",
    "            showlegend=False,\n",
    "            line_color=color_map[color_key],\n",
    "            marker_color=color_map[color_key],\n",
    "            marker=dict(\n",
    "            symbol=marker_map[policy],\n",
    "            color= color_map[policy],\n",
    "            # size=8\n",
    "        ),\n",
    "            opacity=0.9\n",
    "        ),\n",
    "        row=3, col=1\n",
    "    )\n",
    "\n",
    "# --- Y‐axis styling ---\n",
    "fig.update_yaxes(\n",
    "    title_text=\"Master gap tolerance\",\n",
    "    row=1, col=1,\n",
    "    title_font=dict(family=\"Times New Roman\", size=18),\n",
    "    tickfont=dict(family=\"Times New Roman\", size=16),\n",
    "    tickformat=\".2f\"\n",
    "    \n",
    ")\n",
    "fig.update_yaxes(\n",
    "    title_text=\"Benders gap\",\n",
    "    row=2, col=1,\n",
    "    title_font=dict(family=\"Times New Roman\", size=18),\n",
    "    tickfont=dict(family=\"Times New Roman\", size=16),\n",
    "    showgrid=True,\n",
    "    type=\"log\",\n",
    "    tickmode=\"auto\",\n",
    "    nticks=5,\n",
    "    # force \"power\" exponent format: 10^{…}\n",
    "    exponentformat=\"power\",\n",
    "    showexponent=\"all\"\n",
    ")\n",
    "fig.update_yaxes(\n",
    "    title_text=\"Cumulative master runtime (s)\",\n",
    "    row=3, col=1,\n",
    "    title_font=dict(family=\"Times New Roman\", size=18),\n",
    "    tickfont=dict(family=\"Times New Roman\", size=16),\n",
    "    showgrid=True,\n",
    "    tickformat=\".2f\"\n",
    ")\n",
    "\n",
    "# --- X‐axis styling (iteration & ticks on all rows) ---\n",
    "for r in [1,2,3]:\n",
    "    fig.update_xaxes(\n",
    "        title_text=\"Iteration\",\n",
    "        row=r, col=1,\n",
    "        gridcolor='lightgrey',\n",
    "        gridwidth=1,\n",
    "        title_font=dict(family=\"Times New Roman\", size=18),\n",
    "        tickfont=dict(family=\"Times New Roman\", size=16),\n",
    "        ticks=\"inside\",\n",
    "        mirror=True,\n",
    "        showticklabels=True,\n",
    "        tickvals=[0, 4, 8, 12, 16, 20, 24],\n",
    "    )\n",
    "\n",
    "fig.update_xaxes(\n",
    "    showgrid=True,\n",
    "    gridcolor='lightgrey',\n",
    "    gridwidth=1,\n",
    "    zeroline=False,\n",
    "    showline=True,\n",
    "    mirror=True,\n",
    "    linecolor='black',\n",
    "    ticks='outside',\n",
    "    title_standoff=5\n",
    ")\n",
    "fig.update_yaxes(\n",
    "    showgrid=True,\n",
    "    gridcolor='lightgrey',\n",
    "    gridwidth=1,\n",
    "    zeroline=False,\n",
    "    mirror=True,\n",
    "    showline=True,\n",
    "    linecolor='black',\n",
    "    ticks='outside'\n",
    ")\n",
    "\n",
    "# --- Legend & global layout ---\n",
    "fig.update_layout(\n",
    "    font=dict(family=\"Times New Roman\", color=\"black\", size=16),\n",
    "    legend=dict(\n",
    "        orientation=\"v\",       # vertical layout\n",
    "        x=0.97,                # near the right edge\n",
    "        y=0.992,                # near the top edge\n",
    "        xanchor=\"right\",       \n",
    "        yanchor=\"top\",\n",
    "        bordercolor=\"black\",   # frame color\n",
    "        borderwidth=1          # frame width\n",
    "    ),\n",
    "    width=500,\n",
    "    height=1000,\n",
    "    paper_bgcolor='white',\n",
    "    plot_bgcolor='white',\n",
    "    margin=dict(l=60, r=10, t=10, b=10)\n",
    ")\n",
    "\n",
    "fig.show()"
   ]
  },
  {
   "cell_type": "code",
   "execution_count": 11,
   "metadata": {},
   "outputs": [],
   "source": [
    "# fig.write_image(\"benders_convergence.pdf\", format=\"pdf\")"
   ]
  },
  {
   "cell_type": "markdown",
   "metadata": {},
   "source": [
    "### Use this to save the test results."
   ]
  },
  {
   "cell_type": "code",
   "execution_count": 12,
   "metadata": {},
   "outputs": [],
   "source": [
    "# records = []\n",
    "# policies = [\n",
    "#     ('RL',          rl_metrics,   cum_mp_rl),\n",
    "#     ('Random',      base_rand_metrics, cum_mp_rand),\n",
    "#     ('Exponential', base_exp_metrics,  cum_mp_exp),\n",
    "#     ('Optimal',     base_opt_metrics,  cum_mp_opt)\n",
    "# ]\n",
    "\n",
    "# for policy, metrics, cum in policies:\n",
    "#     n = len(metrics['mp_time'])\n",
    "#     master_gaps = metrics.get('master_gap_tol', [None]*n)\n",
    "#     true_gaps   = metrics.get('true_gap',      [None]*n)\n",
    "\n",
    "#     for i in range(n):\n",
    "#         records.append({\n",
    "#             'policy':         policy,\n",
    "#             'iteration':      i,\n",
    "#             'master_gap_tol': master_gaps[i],\n",
    "#             'true_gap':       true_gaps[i],\n",
    "#             'mp_time':        metrics['mp_time'][i],\n",
    "#             'cum_mp_time':    cum[i]\n",
    "#         })\n",
    "\n",
    "# df_metrics = pd.DataFrame.from_records(records)\n",
    "# df_metrics.to_csv('test_episode_data.csv', index=False)\n",
    "\n",
    "# print(f\"Saved combined metrics to metrics_data.csv ({len(df_metrics)} rows)\")"
   ]
  },
  {
   "cell_type": "code",
   "execution_count": 13,
   "metadata": {},
   "outputs": [],
   "source": [
    "# fig.write_image(\"benders_convergence_sp.png\", scale=5)"
   ]
  },
  {
   "cell_type": "code",
   "execution_count": 14,
   "metadata": {},
   "outputs": [
    {
     "name": "stdout",
     "output_type": "stream",
     "text": [
      "Master problem runtime comparison:\n",
      "    RL: 1.4549310207366943\n",
      "    Constant: 2.8387084007263184\n",
      "    Random: 2.1872613430023193\n",
      "    Exponential: 2.5817551612854004\n"
     ]
    }
   ],
   "source": [
    "print('Master problem runtime comparison:')\n",
    "print('    RL:', sum(rl_metrics['mp_time']))\n",
    "print('    Constant:', sum(base_opt_metrics['mp_time']))\n",
    "print('    Random:', sum(base_rand_metrics['mp_time']))\n",
    "print('    Exponential:', sum(base_exp_metrics['mp_time']))"
   ]
  },
  {
   "cell_type": "code",
   "execution_count": null,
   "metadata": {},
   "outputs": [],
   "source": []
  }
 ],
 "metadata": {
  "kernelspec": {
   "display_name": "RL",
   "language": "python",
   "name": "python3"
  },
  "language_info": {
   "codemirror_mode": {
    "name": "ipython",
    "version": 3
   },
   "file_extension": ".py",
   "mimetype": "text/x-python",
   "name": "python",
   "nbconvert_exporter": "python",
   "pygments_lexer": "ipython3",
   "version": "3.10.13"
  }
 },
 "nbformat": 4,
 "nbformat_minor": 2
}
